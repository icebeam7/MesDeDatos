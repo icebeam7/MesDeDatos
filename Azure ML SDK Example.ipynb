{
 "cells": [
  {
   "cell_type": "markdown",
   "id": "84cf6f3a",
   "metadata": {},
   "source": [
    "# Data Science in the Cloud: The \"Azure ML SDK\" way\n",
    "\n",
    "**Introduction**\n",
    "In this notebook, we will learn how to use the Azure ML SDK to train, deploy and consume a model through Azure ML.\n",
    "\n",
    "*Pre-requisites:*\n",
    "1. You created an Azure ML workspace.\n",
    "2. You loaded the Heart Failure dataset into Azure ML.\n",
    "3. You uploaded this notebook into Azure ML Studio.\n",
    "\n",
    "The next steps are:\n",
    "\n",
    "1. Create an Experiment in an existing Workspace.\n",
    "2. Create a Compute cluster.\n",
    "3. Load the dataset.\n",
    "4. Configure AutoML using AutoMLConfig.\n",
    "5. Run the AutoML experiment.\n",
    "6. Explore the results and get the best model.\n",
    "7. Register the best model.\n",
    "8. Deploy the best model.\n",
    "9. Consume the endpoint."
   ]
  },
  {
   "cell_type": "markdown",
   "id": "09013d01",
   "metadata": {},
   "source": [
    "# Azure Machine Learning SDK-specific imports"
   ]
  },
  {
   "cell_type": "code",
   "execution_count": 1,
   "id": "451cf801",
   "metadata": {},
   "outputs": [],
   "source": [
    "from azureml.core import Workspace, Experiment\n",
    "from azureml.core.compute import AmlCompute\n",
    "from azureml.train.automl import AutoMLConfig\n",
    "from azureml.widgets import RunDetails\n",
    "from azureml.core.model import InferenceConfig, Model\n",
    "from azureml.core.webservice import AciWebservice"
   ]
  },
  {
   "cell_type": "markdown",
   "id": "a1995b0e",
   "metadata": {},
   "source": [
    "# Initialize workspace\n",
    "\n",
    "Initialize a workspace object from persisted configuration. Make sure the config file is present at .\\config.json"
   ]
  },
  {
   "cell_type": "code",
   "execution_count": 2,
   "id": "33c90d7d",
   "metadata": {},
   "outputs": [
    {
     "name": "stdout",
     "output_type": "stream",
     "text": [
      "mesdedatos-aml\n",
      "mesdedatosrg\n",
      "westeurope\n",
      "a0c759b9-5d15-4a68-b18d-708855e1e11c\n"
     ]
    }
   ],
   "source": [
    "ws = Workspace.from_config()\n",
    "print(ws.name, ws.resource_group, ws.location, ws.subscription_id, sep = '\\n')"
   ]
  },
  {
   "cell_type": "markdown",
   "id": "19530a9d",
   "metadata": {},
   "source": [
    "# Create an Azure ML experiment\n",
    "\n",
    "Let's create an experiment named 'aml-experiment' in the workspace we just initialized."
   ]
  },
  {
   "cell_type": "code",
   "execution_count": 3,
   "id": "24f50dfc",
   "metadata": {},
   "outputs": [
    {
     "data": {
      "text/html": [
       "<table style=\"width:100%\"><tr><th>Name</th><th>Workspace</th><th>Report Page</th><th>Docs Page</th></tr><tr><td>aml-experiment</td><td>mesdedatos-aml</td><td><a href=\"https://ml.azure.com/experiments/id/1b6e4377-8fa2-4b7c-a796-d5cde4e1089b?wsid=/subscriptions/a0c759b9-5d15-4a68-b18d-708855e1e11c/resourcegroups/mesdedatosrg/workspaces/mesdedatos-aml&amp;tid=9a3b52db-0430-4a9a-83a4-01135f3bc91e\" target=\"_blank\" rel=\"noopener\">Link to Azure Machine Learning studio</a></td><td><a href=\"https://docs.microsoft.com/en-us/python/api/azureml-core/azureml.core.experiment.Experiment?view=azure-ml-py\" target=\"_blank\" rel=\"noopener\">Link to Documentation</a></td></tr></table>"
      ],
      "text/plain": [
       "Experiment(Name: aml-experiment,\n",
       "Workspace: mesdedatos-aml)"
      ]
     },
     "execution_count": 3,
     "metadata": {},
     "output_type": "execute_result"
    }
   ],
   "source": [
    "experiment_name = 'aml-experiment'\n",
    "experiment = Experiment(ws, experiment_name)\n",
    "experiment"
   ]
  },
  {
   "cell_type": "markdown",
   "id": "e781f1fe",
   "metadata": {},
   "source": [
    "# Create a Compute cluster\n",
    "\n",
    "You will need to create (or retrieve) a compute target for your AutoML run."
   ]
  },
  {
   "cell_type": "code",
   "execution_count": 4,
   "id": "b892b000",
   "metadata": {},
   "outputs": [
    {
     "name": "stdout",
     "output_type": "stream",
     "text": [
      "Found existing AML compute context.\n"
     ]
    }
   ],
   "source": [
    "aml_name = \"mesdedatos-vm\"\n",
    "try:\n",
    "    aml_compute = AmlCompute(ws, aml_name)\n",
    "    print('Found existing AML compute context.')\n",
    "except:\n",
    "    print('Creating new AML compute context.')\n",
    "    aml_config = AmlCompute.provisioning_configuration(vm_size = \"Standard_D2_v2\", min_nodes=1, max_nodes=3)\n",
    "    aml_compute = AmlCompute.create(ws, name = aml_name, provisioning_configuration = aml_config)\n",
    "    aml_compute.wait_for_completion(show_output = True)\n",
    "\n",
    "cts = ws.compute_targets\n",
    "compute_target = cts[aml_name]"
   ]
  },
  {
   "cell_type": "markdown",
   "id": "b8bd73bb",
   "metadata": {},
   "source": [
    "# Data\n",
    "\n",
    "Make sure you have uploaded the dataset to Azure ML and that the key is the same name as the dataset."
   ]
  },
  {
   "cell_type": "code",
   "execution_count": 5,
   "id": "8409cc45",
   "metadata": {},
   "outputs": [
    {
     "data": {
      "text/html": [
       "<div>\n",
       "<style scoped>\n",
       "    .dataframe tbody tr th:only-of-type {\n",
       "        vertical-align: middle;\n",
       "    }\n",
       "\n",
       "    .dataframe tbody tr th {\n",
       "        vertical-align: top;\n",
       "    }\n",
       "\n",
       "    .dataframe thead th {\n",
       "        text-align: right;\n",
       "    }\n",
       "</style>\n",
       "<table border=\"1\" class=\"dataframe\">\n",
       "  <thead>\n",
       "    <tr style=\"text-align: right;\">\n",
       "      <th></th>\n",
       "      <th>age</th>\n",
       "      <th>creatinine_phosphokinase</th>\n",
       "      <th>ejection_fraction</th>\n",
       "      <th>platelets</th>\n",
       "      <th>serum_creatinine</th>\n",
       "      <th>serum_sodium</th>\n",
       "      <th>time</th>\n",
       "    </tr>\n",
       "  </thead>\n",
       "  <tbody>\n",
       "    <tr>\n",
       "      <th>count</th>\n",
       "      <td>299.000000</td>\n",
       "      <td>299.000000</td>\n",
       "      <td>299.000000</td>\n",
       "      <td>299.000000</td>\n",
       "      <td>299.00000</td>\n",
       "      <td>299.000000</td>\n",
       "      <td>299.000000</td>\n",
       "    </tr>\n",
       "    <tr>\n",
       "      <th>mean</th>\n",
       "      <td>60.833893</td>\n",
       "      <td>581.839465</td>\n",
       "      <td>38.083612</td>\n",
       "      <td>263358.029264</td>\n",
       "      <td>1.39388</td>\n",
       "      <td>136.625418</td>\n",
       "      <td>130.260870</td>\n",
       "    </tr>\n",
       "    <tr>\n",
       "      <th>std</th>\n",
       "      <td>11.894809</td>\n",
       "      <td>970.287881</td>\n",
       "      <td>11.834841</td>\n",
       "      <td>97804.236869</td>\n",
       "      <td>1.03451</td>\n",
       "      <td>4.412477</td>\n",
       "      <td>77.614208</td>\n",
       "    </tr>\n",
       "    <tr>\n",
       "      <th>min</th>\n",
       "      <td>40.000000</td>\n",
       "      <td>23.000000</td>\n",
       "      <td>14.000000</td>\n",
       "      <td>25100.000000</td>\n",
       "      <td>0.50000</td>\n",
       "      <td>113.000000</td>\n",
       "      <td>4.000000</td>\n",
       "    </tr>\n",
       "    <tr>\n",
       "      <th>25%</th>\n",
       "      <td>51.000000</td>\n",
       "      <td>116.500000</td>\n",
       "      <td>30.000000</td>\n",
       "      <td>212500.000000</td>\n",
       "      <td>0.90000</td>\n",
       "      <td>134.000000</td>\n",
       "      <td>73.000000</td>\n",
       "    </tr>\n",
       "    <tr>\n",
       "      <th>50%</th>\n",
       "      <td>60.000000</td>\n",
       "      <td>250.000000</td>\n",
       "      <td>38.000000</td>\n",
       "      <td>262000.000000</td>\n",
       "      <td>1.10000</td>\n",
       "      <td>137.000000</td>\n",
       "      <td>115.000000</td>\n",
       "    </tr>\n",
       "    <tr>\n",
       "      <th>75%</th>\n",
       "      <td>70.000000</td>\n",
       "      <td>582.000000</td>\n",
       "      <td>45.000000</td>\n",
       "      <td>303500.000000</td>\n",
       "      <td>1.40000</td>\n",
       "      <td>140.000000</td>\n",
       "      <td>203.000000</td>\n",
       "    </tr>\n",
       "    <tr>\n",
       "      <th>max</th>\n",
       "      <td>95.000000</td>\n",
       "      <td>7861.000000</td>\n",
       "      <td>80.000000</td>\n",
       "      <td>850000.000000</td>\n",
       "      <td>9.40000</td>\n",
       "      <td>148.000000</td>\n",
       "      <td>285.000000</td>\n",
       "    </tr>\n",
       "  </tbody>\n",
       "</table>\n",
       "</div>"
      ],
      "text/plain": [
       "              age  creatinine_phosphokinase  ejection_fraction      platelets  \\\n",
       "count  299.000000                299.000000         299.000000     299.000000   \n",
       "mean    60.833893                581.839465          38.083612  263358.029264   \n",
       "std     11.894809                970.287881          11.834841   97804.236869   \n",
       "min     40.000000                 23.000000          14.000000   25100.000000   \n",
       "25%     51.000000                116.500000          30.000000  212500.000000   \n",
       "50%     60.000000                250.000000          38.000000  262000.000000   \n",
       "75%     70.000000                582.000000          45.000000  303500.000000   \n",
       "max     95.000000               7861.000000          80.000000  850000.000000   \n",
       "\n",
       "       serum_creatinine  serum_sodium        time  \n",
       "count         299.00000    299.000000  299.000000  \n",
       "mean            1.39388    136.625418  130.260870  \n",
       "std             1.03451      4.412477   77.614208  \n",
       "min             0.50000    113.000000    4.000000  \n",
       "25%             0.90000    134.000000   73.000000  \n",
       "50%             1.10000    137.000000  115.000000  \n",
       "75%             1.40000    140.000000  203.000000  \n",
       "max             9.40000    148.000000  285.000000  "
      ]
     },
     "execution_count": 5,
     "metadata": {},
     "output_type": "execute_result"
    }
   ],
   "source": [
    "key = 'heart-failure-records'\n",
    "dataset = ws.datasets[key]\n",
    "df = dataset.to_pandas_dataframe()\n",
    "df.describe()"
   ]
  },
  {
   "cell_type": "markdown",
   "id": "38c590a2",
   "metadata": {},
   "source": [
    "# AutoML Configuration"
   ]
  },
  {
   "cell_type": "code",
   "execution_count": 6,
   "id": "0569b31d",
   "metadata": {},
   "outputs": [],
   "source": [
    "automl_settings = {\n",
    "    \"experiment_timeout_minutes\": 20,\n",
    "    \"max_concurrent_iterations\": 3,\n",
    "    \"primary_metric\" : 'AUC_weighted'\n",
    "}\n",
    "\n",
    "automl_config = AutoMLConfig(compute_target=compute_target,\n",
    "                             task = \"classification\",\n",
    "                             training_data=dataset,\n",
    "                             label_column_name=\"DEATH_EVENT\",\n",
    "                             enable_early_stopping= True,\n",
    "                             featurization= 'auto',\n",
    "                             debug_log = \"automl_errors.log\",\n",
    "                             **automl_settings\n",
    "                            )"
   ]
  },
  {
   "cell_type": "markdown",
   "id": "b2a7e411",
   "metadata": {},
   "source": [
    "# AutoML Run"
   ]
  },
  {
   "cell_type": "code",
   "execution_count": 7,
   "id": "3bdc79e9",
   "metadata": {},
   "outputs": [
    {
     "name": "stdout",
     "output_type": "stream",
     "text": [
      "Submitting remote run.\n"
     ]
    },
    {
     "data": {
      "text/html": [
       "<table style=\"width:100%\"><tr><th>Experiment</th><th>Id</th><th>Type</th><th>Status</th><th>Details Page</th><th>Docs Page</th></tr><tr><td>aml-experiment</td><td>AutoML_0d699f45-e7b2-4248-8bc5-507c4e5b9135</td><td>automl</td><td>NotStarted</td><td><a href=\"https://ml.azure.com/runs/AutoML_0d699f45-e7b2-4248-8bc5-507c4e5b9135?wsid=/subscriptions/a0c759b9-5d15-4a68-b18d-708855e1e11c/resourcegroups/mesdedatosrg/workspaces/mesdedatos-aml&amp;tid=9a3b52db-0430-4a9a-83a4-01135f3bc91e\" target=\"_blank\" rel=\"noopener\">Link to Azure Machine Learning studio</a></td><td><a href=\"https://docs.microsoft.com/en-us/python/api/overview/azure/ml/intro?view=azure-ml-py\" target=\"_blank\" rel=\"noopener\">Link to Documentation</a></td></tr></table>"
      ],
      "text/plain": [
       "<IPython.core.display.HTML object>"
      ]
     },
     "metadata": {},
     "output_type": "display_data"
    }
   ],
   "source": [
    "remote_run = experiment.submit(automl_config)"
   ]
  },
  {
   "cell_type": "code",
   "execution_count": 8,
   "id": "3978a746",
   "metadata": {},
   "outputs": [
    {
     "data": {
      "application/vnd.jupyter.widget-view+json": {
       "model_id": "f1781a652a684456ab0f5f8b2788b783",
       "version_major": 2,
       "version_minor": 0
      },
      "text/plain": [
       "_AutoMLWidget(widget_settings={'childWidgetDisplay': 'popup', 'send_telemetry': False, 'log_level': 'INFO', 's…"
      ]
     },
     "metadata": {},
     "output_type": "display_data"
    },
    {
     "data": {
      "application/aml.mini.widget.v1": "{\"status\": \"Completed\", \"workbench_run_details_uri\": \"https://ml.azure.com/runs/AutoML_0d699f45-e7b2-4248-8bc5-507c4e5b9135?wsid=/subscriptions/a0c759b9-5d15-4a68-b18d-708855e1e11c/resourcegroups/mesdedatosrg/workspaces/mesdedatos-aml&tid=9a3b52db-0430-4a9a-83a4-01135f3bc91e\", \"run_id\": \"AutoML_0d699f45-e7b2-4248-8bc5-507c4e5b9135\", \"run_properties\": {\"run_id\": \"AutoML_0d699f45-e7b2-4248-8bc5-507c4e5b9135\", \"created_utc\": \"2023-03-15T15:05:31.440386Z\", \"properties\": {\"num_iterations\": \"1000\", \"training_type\": \"TrainFull\", \"acquisition_function\": \"EI\", \"primary_metric\": \"AUC_weighted\", \"train_split\": \"0\", \"acquisition_parameter\": \"0\", \"num_cross_validation\": null, \"target\": \"mesdedatos-vm\", \"AMLSettingsJsonString\": \"{\\\"path\\\":null,\\\"name\\\":\\\"aml-experiment\\\",\\\"subscription_id\\\":\\\"a0c759b9-5d15-4a68-b18d-708855e1e11c\\\",\\\"resource_group\\\":\\\"mesdedatosrg\\\",\\\"workspace_name\\\":\\\"mesdedatos-aml\\\",\\\"region\\\":\\\"westeurope\\\",\\\"compute_target\\\":\\\"mesdedatos-vm\\\",\\\"spark_service\\\":null,\\\"azure_service\\\":\\\"remote\\\",\\\"many_models\\\":false,\\\"pipeline_fetch_max_batch_size\\\":1,\\\"enable_batch_run\\\":true,\\\"enable_parallel_run\\\":false,\\\"num_procs\\\":null,\\\"enable_run_restructure\\\":false,\\\"start_auxiliary_runs_before_parent_complete\\\":false,\\\"enable_code_generation\\\":true,\\\"iterations\\\":1000,\\\"primary_metric\\\":\\\"AUC_weighted\\\",\\\"task_type\\\":\\\"classification\\\",\\\"positive_label\\\":null,\\\"data_script\\\":null,\\\"test_size\\\":0.0,\\\"test_include_predictions_only\\\":false,\\\"validation_size\\\":0.0,\\\"n_cross_validations\\\":null,\\\"y_min\\\":null,\\\"y_max\\\":null,\\\"num_classes\\\":null,\\\"featurization\\\":\\\"auto\\\",\\\"_ignore_package_version_incompatibilities\\\":false,\\\"is_timeseries\\\":false,\\\"max_cores_per_iteration\\\":1,\\\"max_concurrent_iterations\\\":3,\\\"iteration_timeout_minutes\\\":null,\\\"mem_in_mb\\\":null,\\\"enforce_time_on_windows\\\":false,\\\"experiment_timeout_minutes\\\":20,\\\"experiment_exit_score\\\":null,\\\"partition_column_names\\\":null,\\\"whitelist_models\\\":null,\\\"blacklist_algos\\\":[\\\"TensorFlowLinearClassifier\\\",\\\"TensorFlowDNN\\\"],\\\"supported_models\\\":[\\\"LightGBM\\\",\\\"TabnetClassifier\\\",\\\"BernoulliNaiveBayes\\\",\\\"RandomForest\\\",\\\"XGBoostClassifier\\\",\\\"GradientBoosting\\\",\\\"LinearSVM\\\",\\\"TensorFlowDNN\\\",\\\"TensorFlowLinearClassifier\\\",\\\"SVM\\\",\\\"ExtremeRandomTrees\\\",\\\"LogisticRegression\\\",\\\"MultinomialNaiveBayes\\\",\\\"SGD\\\",\\\"DecisionTree\\\",\\\"AveragedPerceptronClassifier\\\",\\\"KNN\\\"],\\\"private_models\\\":[],\\\"auto_blacklist\\\":true,\\\"blacklist_samples_reached\\\":false,\\\"exclude_nan_labels\\\":true,\\\"verbosity\\\":20,\\\"_debug_log\\\":\\\"azureml_automl.log\\\",\\\"show_warnings\\\":false,\\\"model_explainability\\\":true,\\\"service_url\\\":null,\\\"sdk_url\\\":null,\\\"sdk_packages\\\":null,\\\"enable_onnx_compatible_models\\\":false,\\\"enable_split_onnx_featurizer_estimator_models\\\":false,\\\"vm_type\\\":\\\"STANDARD_DS11_V2\\\",\\\"telemetry_verbosity\\\":20,\\\"send_telemetry\\\":true,\\\"enable_dnn\\\":false,\\\"scenario\\\":\\\"AutoML\\\",\\\"environment_label\\\":null,\\\"save_mlflow\\\":false,\\\"enable_categorical_indicators\\\":false,\\\"force_text_dnn\\\":false,\\\"enable_feature_sweeping\\\":true,\\\"enable_early_stopping\\\":true,\\\"early_stopping_n_iters\\\":10,\\\"arguments\\\":null,\\\"dataset_id\\\":\\\"162b07f4-3f40-4a13-adcb-5ddf4ad49840\\\",\\\"hyperdrive_config\\\":null,\\\"validation_dataset_id\\\":null,\\\"run_source\\\":null,\\\"metrics\\\":null,\\\"enable_metric_confidence\\\":false,\\\"enable_ensembling\\\":true,\\\"enable_stack_ensembling\\\":true,\\\"ensemble_iterations\\\":15,\\\"enable_tf\\\":false,\\\"enable_subsampling\\\":null,\\\"subsample_seed\\\":null,\\\"enable_nimbusml\\\":false,\\\"enable_streaming\\\":false,\\\"force_streaming\\\":false,\\\"track_child_runs\\\":true,\\\"n_best_runs\\\":1,\\\"allowed_private_models\\\":[],\\\"label_column_name\\\":\\\"DEATH_EVENT\\\",\\\"weight_column_name\\\":null,\\\"cv_split_column_names\\\":null,\\\"enable_local_managed\\\":false,\\\"_local_managed_run_id\\\":null,\\\"cost_mode\\\":1,\\\"lag_length\\\":0,\\\"metric_operation\\\":\\\"maximize\\\",\\\"preprocess\\\":true}\", \"DataPrepJsonString\": \"{\\\\\\\"training_data\\\\\\\": {\\\\\\\"datasetId\\\\\\\": \\\\\\\"162b07f4-3f40-4a13-adcb-5ddf4ad49840\\\\\\\"}, \\\\\\\"datasets\\\\\\\": 0}\", \"EnableSubsampling\": null, \"runTemplate\": \"AutoML\", \"azureml.runsource\": \"automl\", \"display_task_type\": \"classification\", \"dependencies_versions\": \"{\\\"azureml\\\": \\\"0.2.7\\\", \\\"azureml-widgets\\\": \\\"1.49.0\\\", \\\"azureml-training-tabular\\\": \\\"1.49.0\\\", \\\"azureml-train\\\": \\\"1.48.0\\\", \\\"azureml-train-restclients-hyperdrive\\\": \\\"1.49.0\\\", \\\"azureml-train-core\\\": \\\"1.49.0.post1\\\", \\\"azureml-train-automl\\\": \\\"1.49.0\\\", \\\"azureml-train-automl-runtime\\\": \\\"1.49.0\\\", \\\"azureml-train-automl-client\\\": \\\"1.49.0.post1\\\", \\\"azureml-tensorboard\\\": \\\"1.48.0\\\", \\\"azureml-telemetry\\\": \\\"1.49.0\\\", \\\"azureml-sdk\\\": \\\"1.49.0\\\", \\\"azureml-samples\\\": \\\"0+unknown\\\", \\\"azureml-responsibleai\\\": \\\"1.48.0\\\", \\\"azureml-pipeline\\\": \\\"1.49.0\\\", \\\"azureml-pipeline-steps\\\": \\\"1.49.0\\\", \\\"azureml-pipeline-core\\\": \\\"1.49.0\\\", \\\"azureml-opendatasets\\\": \\\"1.48.0\\\", \\\"azureml-mlflow\\\": \\\"1.49.0\\\", \\\"azureml-interpret\\\": \\\"1.49.0\\\", \\\"azureml-inference-server-http\\\": \\\"0.7.7\\\", \\\"azureml-explain-model\\\": \\\"1.49.0\\\", \\\"azureml-defaults\\\": \\\"1.48.0\\\", \\\"azureml-dataset-runtime\\\": \\\"1.49.0\\\", \\\"azureml-dataprep\\\": \\\"4.9.3\\\", \\\"azureml-dataprep-rslex\\\": \\\"2.16.3\\\", \\\"azureml-dataprep-native\\\": \\\"38.0.0\\\", \\\"azureml-datadrift\\\": \\\"1.48.0\\\", \\\"azureml-core\\\": \\\"1.49.0\\\", \\\"azureml-contrib-services\\\": \\\"1.49.0\\\", \\\"azureml-contrib-server\\\": \\\"1.49.0\\\", \\\"azureml-contrib-reinforcementlearning\\\": \\\"1.48.0\\\", \\\"azureml-contrib-pipeline-steps\\\": \\\"1.49.0\\\", \\\"azureml-contrib-notebook\\\": \\\"1.49.0\\\", \\\"azureml-contrib-fairness\\\": \\\"1.48.0\\\", \\\"azureml-contrib-dataset\\\": \\\"1.48.0\\\", \\\"azureml-contrib-automl-pipeline-steps\\\": \\\"1.48.0\\\", \\\"azureml-cli-common\\\": \\\"1.48.0\\\", \\\"azureml-automl-runtime\\\": \\\"1.49.0.post1\\\", \\\"azureml-automl-dnn-nlp\\\": \\\"1.48.0\\\", \\\"azureml-automl-core\\\": \\\"1.49.0.post1\\\", \\\"azureml-accel-models\\\": \\\"1.48.0\\\"}\", \"_aml_system_scenario_identification\": \"Remote.Parent\", \"ClientType\": \"SDK\", \"PlatformVersion\": \"DPV1\", \"environment_cpu_name\": \"AzureML-AutoML\", \"environment_cpu_label\": \"prod\", \"environment_gpu_name\": \"AzureML-AutoML-GPU\", \"environment_gpu_label\": \"prod\", \"root_attribution\": \"automl\", \"attribution\": \"AutoML\", \"Orchestrator\": \"AutoML\", \"CancelUri\": \"https://westeurope.api.azureml.ms/jasmine/v1.0/subscriptions/a0c759b9-5d15-4a68-b18d-708855e1e11c/resourceGroups/mesdedatosrg/providers/Microsoft.MachineLearningServices/workspaces/mesdedatos-aml/experimentids/1b6e4377-8fa2-4b7c-a796-d5cde4e1089b/cancel/AutoML_0d699f45-e7b2-4248-8bc5-507c4e5b9135\", \"ClientSdkVersion\": null, \"snapshotId\": \"00000000-0000-0000-0000-000000000000\", \"SetupRunId\": \"AutoML_0d699f45-e7b2-4248-8bc5-507c4e5b9135_setup\", \"SetupRunContainerId\": \"dcid.AutoML_0d699f45-e7b2-4248-8bc5-507c4e5b9135_setup\", \"FeaturizationRunJsonPath\": \"featurizer_container.json\", \"FeaturizationRunId\": \"AutoML_0d699f45-e7b2-4248-8bc5-507c4e5b9135_featurize\", \"ProblemInfoJsonString\": \"{\\\"dataset_num_categorical\\\": 0, \\\"is_sparse\\\": false, \\\"subsampling\\\": false, \\\"has_extra_col\\\": true, \\\"dataset_classes\\\": 2, \\\"dataset_features\\\": 12, \\\"dataset_samples\\\": 299, \\\"single_frequency_class_detected\\\": false}\", \"ModelExplainRunId\": \"AutoML_0d699f45-e7b2-4248-8bc5-507c4e5b9135_ModelExplain\"}, \"tags\": {\"model_explain_run\": \"best_run\", \"_aml_system_automl_run_workspace_id\": \"89b5b8a8-bc93-44c4-a620-8aaf382348e5\", \"_aml_system_azureml.automlComponent\": \"AutoML\", \"pipeline_id_000\": \"5dfac790c5c209f98a1da2dc1c7fb76f0397324f;c7af0367625be6ac5c2fecbfc72ed444cb7a2111;51ae05309834b29f71340af1008fc94fbd8213f4;ce2643edf3d450b10c86c7d034a9bc952dc282d3;039a99c3d5147edeb525249e2660628be3e8b83f;a18bd1af1629e8f96b25a32ac94e62b3bd9a9605;a3dadd95854bf6116ab454844302b51d417d78b7;1dfdf370ba770047b14bfa59c40920815defcdab;e92a63ad06df7b68a48ce96c06fad3fbf2a25ce2;5bc24cef89e67ee668d55e59548e1032cfbc7f0f;516a24fb1445632ecf04366c17b960ce157878b3;088b94df63b852cc8cba96bb2fa191ce8d1ef2e5;294650ec23bc3d067a4972de7ceb12f6e97260fa;634afb4b36be9286ca21289f56b5f7cdf1c72fa9;b983b703e4d6dbffd4a815a4d1c2ed94225c5027;681a59302459aec2cc115ddbc14e1d28f4b3b8df;4f207270c6817858b81b8050f1efa1d0053db52e;7ea0a64582be36507254a026ac98e9a5a49e1f34;6f4a466f84f725a47910c1dff062a1bb46df2a21;dea7fdbaedc77258dbfe31dbfed41e768ca38939;a72eb56f3d4aadb7b7f0149ba6e5f05657a95ca1;c74787cd2f0507b852a1ac70d504d83ac9bdec83;9610149fbcf43017aa810a290e9c04cbe6fa8684;1e38ae92baee19b18f211a8b14c16015d5ee3dc3;dd3e4dc5ec6157b2d4a917d02659b2946c1df9a6;18df6f7c8ab9671ee27b80e6edc9861a31350e57;3856cbbc7244eed4f1a37e49e295dc62a83a0a0e;8de5803b9242c9b2993f0c15f0730a5f73346840;74f74c4bf8717cc69e8422ff75923caf8873d95c;b19eeb61727e9c4fbb5aa45fb6e9fe3fab5b1f04;8111917229c2c9d1901e7cb3c8faf9accb9282f3;aa9bb1be0fdd90d85173de50544a9c238007a00e;70d98baa21f9d330cd530b4bbd8d41874d129dc0;bb4f2333ea100dbad8d69a3a4bd3cf111d6b0a69;d94789ecf0b6084791fa7d1e8af3d45c373c7a88;e167be9e37954cb4f65e1cfe37e93a5390d8c731;fede1bbe89b33fd37a2da5f3f0b3113d7ba22433;98a2b5806ecdb4a2dfb7217d3d3f3e8cd08e01a7;638652504b1e6fdb2b24fe02d113b2c5b132f059;454b2a4f20c44bcc16c674c46f76ccad5aeba90a;6963937a466a02b48e13a5b6544a9cb11e3e4009;01f10020373a0cfe0d779859c14d33bd05b6fd6a;58150bd74d7d0f88d146cd3d7f53da1788f816c6;38158f9346dd755a98e552079ff8ac9afbc7af71;__AutoML_Ensemble__;__AutoML_Stack_Ensemble__\", \"score\": \"\", \"predicted_cost\": \"\", \"fit_time\": \"\", \"training_percent\": \"\", \"iteration\": \"\", \"run_preprocessor\": \"\", \"run_algorithm\": \"\", \"dynamic_allowlisting_iterations\": \"<25>;<30>;<35>;<40>;\", \"_aml_system_azureml.automl_early_exit_message\": \"Experiment timeout reached, hence experiment stopped. Current experiment timeout: 0 hour(s) 20 minute(s)\", \"automl_best_child_run_id\": \"AutoML_0d699f45-e7b2-4248-8bc5-507c4e5b9135_44\", \"model_explain_best_run_child_id\": \"AutoML_0d699f45-e7b2-4248-8bc5-507c4e5b9135_44\"}, \"end_time_utc\": \"2023-03-15T15:38:52.163915Z\", \"status\": \"Completed\", \"log_files\": {}, \"log_groups\": [], \"run_duration\": \"0:33:20\", \"run_number\": \"1678892731\", \"run_queued_details\": {\"status\": \"Completed\", \"details\": null}}, \"child_runs\": [{\"run_id\": \"AutoML_0d699f45-e7b2-4248-8bc5-507c4e5b9135_setup\", \"run_number\": 1678892745, \"metric\": null, \"status\": \"Completed\", \"run_type\": \"azureml.scriptrun\", \"training_percent\": null, \"start_time\": \"2023-03-15T15:10:47.358286Z\", \"end_time\": \"2023-03-15T15:12:39.300844Z\", \"created_time\": \"2023-03-15T15:05:45.934383Z\", \"created_time_dt\": \"2023-03-15T15:05:45.934383Z\", \"duration\": \"0:06:53\", \"iteration\": null, \"goal\": null, \"run_name\": \"Completed\", \"run_properties\": null}, {\"run_id\": \"AutoML_0d699f45-e7b2-4248-8bc5-507c4e5b9135_featurize\", \"run_number\": 1678893159, \"metric\": null, \"status\": \"Completed\", \"run_type\": \"automl.featurization\", \"training_percent\": null, \"start_time\": \"2023-03-15T15:12:40.286534Z\", \"end_time\": \"2023-03-15T15:13:31.10479Z\", \"created_time\": \"2023-03-15T15:12:39.807292Z\", \"created_time_dt\": \"2023-03-15T15:12:39.807292Z\", \"duration\": \"0:00:51\", \"iteration\": null, \"goal\": null, \"run_name\": \"Completed\", \"run_properties\": null}, {\"run_id\": \"AutoML_0d699f45-e7b2-4248-8bc5-507c4e5b9135_0\", \"run_number\": 1678893214, \"metric\": null, \"status\": \"Completed\", \"run_type\": null, \"training_percent\": \"100\", \"start_time\": \"2023-03-15T15:13:59.209182Z\", \"end_time\": \"2023-03-15T15:14:14.868395Z\", \"created_time\": \"2023-03-15T15:13:34.146285Z\", \"created_time_dt\": \"2023-03-15T15:13:34.146285Z\", \"duration\": \"0:00:40\", \"iteration\": \"0\", \"goal\": \"AUC_weighted_max\", \"run_name\": \"MaxAbsScaler, LightGBM\", \"run_properties\": \"copy=True\", \"primary_metric\": 0.89523336, \"best_metric\": 0.89523336}, {\"run_id\": \"AutoML_0d699f45-e7b2-4248-8bc5-507c4e5b9135_1\", \"run_number\": 1678893215, \"metric\": null, \"status\": \"Completed\", \"run_type\": null, \"training_percent\": \"100\", \"start_time\": \"2023-03-15T15:14:15.838148Z\", \"end_time\": \"2023-03-15T15:14:30.720464Z\", \"created_time\": \"2023-03-15T15:13:35.190833Z\", \"created_time_dt\": \"2023-03-15T15:13:35.190833Z\", \"duration\": \"0:00:55\", \"iteration\": \"1\", \"goal\": \"AUC_weighted_max\", \"run_name\": \"MaxAbsScaler, XGBoostClassifier\", \"run_properties\": \"copy=True\", \"primary_metric\": 0.89918128, \"best_metric\": 0.89918128}, {\"run_id\": \"AutoML_0d699f45-e7b2-4248-8bc5-507c4e5b9135_2\", \"run_number\": 1678893216, \"metric\": null, \"status\": \"Completed\", \"run_type\": null, \"training_percent\": \"100\", \"start_time\": \"2023-03-15T15:14:31.451385Z\", \"end_time\": \"2023-03-15T15:14:45.412671Z\", \"created_time\": \"2023-03-15T15:13:36.137848Z\", \"created_time_dt\": \"2023-03-15T15:13:36.137848Z\", \"duration\": \"0:01:09\", \"iteration\": \"2\", \"goal\": \"AUC_weighted_max\", \"run_name\": \"MaxAbsScaler, ExtremeRandomTrees\", \"run_properties\": \"copy=True\", \"primary_metric\": 0.87048186, \"best_metric\": 0.89918128}, {\"run_id\": \"AutoML_0d699f45-e7b2-4248-8bc5-507c4e5b9135_4\", \"run_number\": 1678893218, \"metric\": null, \"status\": \"Completed\", \"run_type\": null, \"training_percent\": \"100\", \"start_time\": \"2023-03-15T15:15:00.647097Z\", \"end_time\": \"2023-03-15T15:15:14.268691Z\", \"created_time\": \"2023-03-15T15:13:38.199916Z\", \"created_time_dt\": \"2023-03-15T15:13:38.199916Z\", \"duration\": \"0:01:36\", \"iteration\": \"4\", \"goal\": \"AUC_weighted_max\", \"run_name\": \"StandardScalerWrapper, LightGBM\", \"run_properties\": \"copy=True, with_mean=False, with_std=True\", \"primary_metric\": 0.90282652, \"best_metric\": 0.90282652}, {\"run_id\": \"AutoML_0d699f45-e7b2-4248-8bc5-507c4e5b9135_5\", \"run_number\": 1678893219, \"metric\": null, \"status\": \"Completed\", \"run_type\": null, \"training_percent\": \"100\", \"start_time\": \"2023-03-15T15:15:15.45625Z\", \"end_time\": \"2023-03-15T15:15:30.045666Z\", \"created_time\": \"2023-03-15T15:13:39.164627Z\", \"created_time_dt\": \"2023-03-15T15:13:39.164627Z\", \"duration\": \"0:01:50\", \"iteration\": \"5\", \"goal\": \"AUC_weighted_max\", \"run_name\": \"StandardScalerWrapper, KNN\", \"run_properties\": \"copy=True, with_mean=True, with_std=False\", \"primary_metric\": 0.50585726, \"best_metric\": 0.90282652}, {\"run_id\": \"AutoML_0d699f45-e7b2-4248-8bc5-507c4e5b9135_worker_0\", \"run_number\": 1678893220, \"metric\": null, \"status\": \"Completed\", \"run_type\": \"azureml.scriptrun\", \"training_percent\": null, \"start_time\": \"2023-03-15T15:13:47.999856Z\", \"end_time\": \"2023-03-15T15:15:56.985521Z\", \"created_time\": \"2023-03-15T15:13:40.721342Z\", \"created_time_dt\": \"2023-03-15T15:13:40.721342Z\", \"duration\": \"0:02:16\", \"iteration\": null, \"goal\": null, \"run_name\": \"Completed\", \"run_properties\": null}, {\"run_id\": \"AutoML_0d699f45-e7b2-4248-8bc5-507c4e5b9135_7\", \"run_number\": 1678893221, \"metric\": null, \"status\": \"Completed\", \"run_type\": null, \"training_percent\": \"100\", \"start_time\": \"2023-03-15T15:16:13.093648Z\", \"end_time\": \"2023-03-15T15:16:31.719478Z\", \"created_time\": \"2023-03-15T15:13:41.260838Z\", \"created_time_dt\": \"2023-03-15T15:13:41.260838Z\", \"duration\": \"0:02:50\", \"iteration\": \"7\", \"goal\": \"AUC_weighted_max\", \"run_name\": \"SparseNormalizer, RandomForest\", \"run_properties\": \"copy=True, norm='l2'\", \"primary_metric\": 0.89871964, \"best_metric\": 0.90282652}, {\"run_id\": \"AutoML_0d699f45-e7b2-4248-8bc5-507c4e5b9135_9\", \"run_number\": 1678893222, \"metric\": null, \"status\": \"Completed\", \"run_type\": null, \"training_percent\": \"100\", \"start_time\": \"2023-03-15T15:16:47.053698Z\", \"end_time\": \"2023-03-15T15:17:01.030271Z\", \"created_time\": \"2023-03-15T15:13:42.209351Z\", \"created_time_dt\": \"2023-03-15T15:13:42.209351Z\", \"duration\": \"0:03:18\", \"iteration\": \"9\", \"goal\": \"AUC_weighted_max\", \"run_name\": \"MinMaxScaler, RandomForest\", \"run_properties\": \"copy=True, feature_range=(0, 1\", \"primary_metric\": 0.9014471, \"best_metric\": 0.90282652}, {\"run_id\": \"AutoML_0d699f45-e7b2-4248-8bc5-507c4e5b9135_11\", \"run_number\": 1678893223, \"metric\": null, \"status\": \"Completed\", \"run_type\": null, \"training_percent\": \"100\", \"start_time\": \"2023-03-15T15:17:16.910639Z\", \"end_time\": \"2023-03-15T15:17:31.092881Z\", \"created_time\": \"2023-03-15T15:13:43.0779Z\", \"created_time_dt\": \"2023-03-15T15:13:43.0779Z\", \"duration\": \"0:03:48\", \"iteration\": \"11\", \"goal\": \"AUC_weighted_max\", \"run_name\": \"StandardScalerWrapper, SVM\", \"run_properties\": \"copy=True, with_mean=True, with_std=True\", \"primary_metric\": 0.79962588, \"best_metric\": 0.90282652}, {\"run_id\": \"AutoML_0d699f45-e7b2-4248-8bc5-507c4e5b9135_worker_1\", \"run_number\": 1678893224, \"metric\": null, \"status\": \"Completed\", \"run_type\": \"azureml.scriptrun\", \"training_percent\": null, \"start_time\": \"2023-03-15T15:16:01.389093Z\", \"end_time\": \"2023-03-15T15:18:11.937922Z\", \"created_time\": \"2023-03-15T15:13:44.226369Z\", \"created_time_dt\": \"2023-03-15T15:13:44.226369Z\", \"duration\": \"0:04:27\", \"iteration\": null, \"goal\": null, \"run_name\": \"Completed\", \"run_properties\": null}, {\"run_id\": \"AutoML_0d699f45-e7b2-4248-8bc5-507c4e5b9135_15\", \"run_number\": 1678893225, \"metric\": null, \"status\": \"Completed\", \"run_type\": null, \"training_percent\": \"100\", \"start_time\": \"2023-03-15T15:18:41.429625Z\", \"end_time\": \"2023-03-15T15:18:55.074995Z\", \"created_time\": \"2023-03-15T15:13:45.18199Z\", \"created_time_dt\": \"2023-03-15T15:13:45.18199Z\", \"duration\": \"0:05:09\", \"iteration\": \"15\", \"goal\": \"AUC_weighted_max\", \"run_name\": \"SparseNormalizer, XGBoostClassifier\", \"run_properties\": \"copy=True, norm='max'\", \"primary_metric\": 0.89743926, \"best_metric\": 0.90282652}, {\"run_id\": \"AutoML_0d699f45-e7b2-4248-8bc5-507c4e5b9135_17\", \"run_number\": 1678893226, \"metric\": null, \"status\": \"Completed\", \"run_type\": null, \"training_percent\": \"100\", \"start_time\": \"2023-03-15T15:19:11.574515Z\", \"end_time\": \"2023-03-15T15:19:27.600725Z\", \"created_time\": \"2023-03-15T15:13:46.123951Z\", \"created_time_dt\": \"2023-03-15T15:13:46.123951Z\", \"duration\": \"0:05:41\", \"iteration\": \"17\", \"goal\": \"AUC_weighted_max\", \"run_name\": \"MinMaxScaler, ExtremeRandomTrees\", \"run_properties\": \"copy=True, feature_range=(0, 1\", \"primary_metric\": 0.89385568, \"best_metric\": 0.90282652}, {\"run_id\": \"AutoML_0d699f45-e7b2-4248-8bc5-507c4e5b9135_worker_2\", \"run_number\": 1678893227, \"metric\": null, \"status\": \"Completed\", \"run_type\": \"azureml.scriptrun\", \"training_percent\": null, \"start_time\": \"2023-03-15T15:18:14.383829Z\", \"end_time\": \"2023-03-15T15:20:11.966814Z\", \"created_time\": \"2023-03-15T15:13:47.263027Z\", \"created_time_dt\": \"2023-03-15T15:13:47.263027Z\", \"duration\": \"0:06:24\", \"iteration\": null, \"goal\": null, \"run_name\": \"Completed\", \"run_properties\": null}, {\"run_id\": \"AutoML_0d699f45-e7b2-4248-8bc5-507c4e5b9135_21\", \"run_number\": 1678893570, \"metric\": null, \"status\": \"Completed\", \"run_type\": \"azureml.scriptrun\", \"training_percent\": \"100\", \"start_time\": \"2023-03-15T15:20:15.309592Z\", \"end_time\": \"2023-03-15T15:20:51.359946Z\", \"created_time\": \"2023-03-15T15:19:30.420745Z\", \"created_time_dt\": \"2023-03-15T15:19:30.420745Z\", \"duration\": \"0:01:20\", \"iteration\": \"21\", \"goal\": \"AUC_weighted_max\", \"run_name\": \"StandardScalerWrapper, RandomForest\", \"run_properties\": \"copy=True, with_mean=False, with_std=False\", \"primary_metric\": 0.91094299, \"best_metric\": 0.91094299}, {\"run_id\": \"AutoML_0d699f45-e7b2-4248-8bc5-507c4e5b9135_22\", \"run_number\": 1678893635, \"metric\": null, \"status\": \"Completed\", \"run_type\": \"azureml.scriptrun\", \"training_percent\": \"100\", \"start_time\": \"2023-03-15T15:21:31.372367Z\", \"end_time\": \"2023-03-15T15:22:03.57159Z\", \"created_time\": \"2023-03-15T15:20:35.479994Z\", \"created_time_dt\": \"2023-03-15T15:20:35.479994Z\", \"duration\": \"0:01:28\", \"iteration\": \"22\", \"goal\": \"AUC_weighted_max\", \"run_name\": \"MaxAbsScaler, LightGBM\", \"run_properties\": \"copy=True\", \"primary_metric\": 0.9025807, \"best_metric\": 0.91094299}, {\"run_id\": \"AutoML_0d699f45-e7b2-4248-8bc5-507c4e5b9135_23\", \"run_number\": 1678893653, \"metric\": null, \"status\": \"Completed\", \"run_type\": \"azureml.scriptrun\", \"training_percent\": \"100\", \"start_time\": \"2023-03-15T15:22:07.587407Z\", \"end_time\": \"2023-03-15T15:22:40.008437Z\", \"created_time\": \"2023-03-15T15:20:53.699145Z\", \"created_time_dt\": \"2023-03-15T15:20:53.699145Z\", \"duration\": \"0:01:46\", \"iteration\": \"23\", \"goal\": \"AUC_weighted_max\", \"run_name\": \"MaxAbsScaler, LogisticRegression\", \"run_properties\": \"copy=True\", \"primary_metric\": 0.86742265, \"best_metric\": 0.91094299}, {\"run_id\": \"AutoML_0d699f45-e7b2-4248-8bc5-507c4e5b9135_24\", \"run_number\": 1678893688, \"metric\": null, \"status\": \"Completed\", \"run_type\": \"azureml.scriptrun\", \"training_percent\": \"100\", \"start_time\": \"2023-03-15T15:22:43.397304Z\", \"end_time\": \"2023-03-15T15:23:16.400851Z\", \"created_time\": \"2023-03-15T15:21:28.686345Z\", \"created_time_dt\": \"2023-03-15T15:21:28.686345Z\", \"duration\": \"0:01:47\", \"iteration\": \"24\", \"goal\": \"AUC_weighted_max\", \"run_name\": \"StandardScalerWrapper, XGBoostClassifier\", \"run_properties\": \"copy=True, with_mean=False, with_std=False\", \"primary_metric\": 0.88775747, \"best_metric\": 0.91094299}, {\"run_id\": \"AutoML_0d699f45-e7b2-4248-8bc5-507c4e5b9135_25\", \"run_number\": 1678893726, \"metric\": null, \"status\": \"Completed\", \"run_type\": \"azureml.scriptrun\", \"training_percent\": \"100\", \"start_time\": \"2023-03-15T15:23:22.693847Z\", \"end_time\": \"2023-03-15T15:23:57.405574Z\", \"created_time\": \"2023-03-15T15:22:06.235563Z\", \"created_time_dt\": \"2023-03-15T15:22:06.235563Z\", \"duration\": \"0:01:51\", \"iteration\": \"25\", \"goal\": \"AUC_weighted_max\", \"run_name\": \"MinMaxScaler, RandomForest\", \"run_properties\": \"copy=True, feature_range=(0, 1\", \"primary_metric\": 0.90933725, \"best_metric\": 0.91094299}, {\"run_id\": \"AutoML_0d699f45-e7b2-4248-8bc5-507c4e5b9135_26\", \"run_number\": 1678893761, \"metric\": null, \"status\": \"Completed\", \"run_type\": \"azureml.scriptrun\", \"training_percent\": \"100\", \"start_time\": \"2023-03-15T15:24:00.934693Z\", \"end_time\": \"2023-03-15T15:24:32.971184Z\", \"created_time\": \"2023-03-15T15:22:41.772637Z\", \"created_time_dt\": \"2023-03-15T15:22:41.772637Z\", \"duration\": \"0:01:51\", \"iteration\": \"26\", \"goal\": \"AUC_weighted_max\", \"run_name\": \"MaxAbsScaler, LightGBM\", \"run_properties\": \"copy=True\", \"primary_metric\": 0.90073382, \"best_metric\": 0.91094299}, {\"run_id\": \"AutoML_0d699f45-e7b2-4248-8bc5-507c4e5b9135_27\", \"run_number\": 1678893798, \"metric\": null, \"status\": \"Completed\", \"run_type\": \"azureml.scriptrun\", \"training_percent\": \"100\", \"start_time\": \"2023-03-15T15:24:37.269616Z\", \"end_time\": \"2023-03-15T15:25:11.952379Z\", \"created_time\": \"2023-03-15T15:23:18.233592Z\", \"created_time_dt\": \"2023-03-15T15:23:18.233592Z\", \"duration\": \"0:01:53\", \"iteration\": \"27\", \"goal\": \"AUC_weighted_max\", \"run_name\": \"RobustScaler, LightGBM\", \"run_properties\": \"copy=True, quantile_range=[10, 90], with_centering=False,\\n             with_scaling=True\", \"primary_metric\": 0.89879441, \"best_metric\": 0.91094299}, {\"run_id\": \"AutoML_0d699f45-e7b2-4248-8bc5-507c4e5b9135_28\", \"run_number\": 1678893839, \"metric\": null, \"status\": \"Completed\", \"run_type\": \"azureml.scriptrun\", \"training_percent\": \"100\", \"start_time\": \"2023-03-15T15:25:13.695059Z\", \"end_time\": \"2023-03-15T15:25:46.70333Z\", \"created_time\": \"2023-03-15T15:23:59.10191Z\", \"created_time_dt\": \"2023-03-15T15:23:59.10191Z\", \"duration\": \"0:01:47\", \"iteration\": \"28\", \"goal\": \"AUC_weighted_max\", \"run_name\": \"SparseNormalizer, LightGBM\", \"run_properties\": \"copy=True, norm='l2'\", \"primary_metric\": 0.880707, \"best_metric\": 0.91094299}, {\"run_id\": \"AutoML_0d699f45-e7b2-4248-8bc5-507c4e5b9135_29\", \"run_number\": 1678893875, \"metric\": null, \"status\": \"Completed\", \"run_type\": \"azureml.scriptrun\", \"training_percent\": \"100\", \"start_time\": \"2023-03-15T15:25:50.023682Z\", \"end_time\": \"2023-03-15T15:26:23.24632Z\", \"created_time\": \"2023-03-15T15:24:35.115046Z\", \"created_time_dt\": \"2023-03-15T15:24:35.115046Z\", \"duration\": \"0:01:48\", \"iteration\": \"29\", \"goal\": \"AUC_weighted_max\", \"run_name\": \"MinMaxScaler, RandomForest\", \"run_properties\": \"copy=True, feature_range=(0, 1\", \"primary_metric\": 0.91170888, \"best_metric\": 0.91170888}, {\"run_id\": \"AutoML_0d699f45-e7b2-4248-8bc5-507c4e5b9135_30\", \"run_number\": 1678893914, \"metric\": null, \"status\": \"Completed\", \"run_type\": \"azureml.scriptrun\", \"training_percent\": \"100\", \"start_time\": \"2023-03-15T15:26:26.171623Z\", \"end_time\": \"2023-03-15T15:26:58.1606Z\", \"created_time\": \"2023-03-15T15:25:14.980935Z\", \"created_time_dt\": \"2023-03-15T15:25:14.980935Z\", \"duration\": \"0:01:43\", \"iteration\": \"30\", \"goal\": \"AUC_weighted_max\", \"run_name\": \"MinMaxScaler, RandomForest\", \"run_properties\": \"copy=True, feature_range=(0, 1\", \"primary_metric\": 0.87148313, \"best_metric\": 0.91170888}, {\"run_id\": \"AutoML_0d699f45-e7b2-4248-8bc5-507c4e5b9135_31\", \"run_number\": 1678893948, \"metric\": null, \"status\": \"Completed\", \"run_type\": \"azureml.scriptrun\", \"training_percent\": \"100\", \"start_time\": \"2023-03-15T15:27:02.578908Z\", \"end_time\": \"2023-03-15T15:27:34.385095Z\", \"created_time\": \"2023-03-15T15:25:48.43422Z\", \"created_time_dt\": \"2023-03-15T15:25:48.43422Z\", \"duration\": \"0:01:45\", \"iteration\": \"31\", \"goal\": \"AUC_weighted_max\", \"run_name\": \"StandardScalerWrapper, SVM\", \"run_properties\": \"copy=True, with_mean=False, with_std=True\", \"primary_metric\": 0.86873031, \"best_metric\": 0.91170888}, {\"run_id\": \"AutoML_0d699f45-e7b2-4248-8bc5-507c4e5b9135_32\", \"run_number\": 1678893985, \"metric\": null, \"status\": \"Completed\", \"run_type\": \"azureml.scriptrun\", \"training_percent\": \"100\", \"start_time\": \"2023-03-15T15:27:38.721647Z\", \"end_time\": \"2023-03-15T15:28:11.709086Z\", \"created_time\": \"2023-03-15T15:26:25.116809Z\", \"created_time_dt\": \"2023-03-15T15:26:25.116809Z\", \"duration\": \"0:01:46\", \"iteration\": \"32\", \"goal\": \"AUC_weighted_max\", \"run_name\": \"MaxAbsScaler, RandomForest\", \"run_properties\": \"copy=True\", \"primary_metric\": 0.89895042, \"best_metric\": 0.91170888}, {\"run_id\": \"AutoML_0d699f45-e7b2-4248-8bc5-507c4e5b9135_33\", \"run_number\": 1678894019, \"metric\": null, \"status\": \"Completed\", \"run_type\": \"azureml.scriptrun\", \"training_percent\": \"100\", \"start_time\": \"2023-03-15T15:28:15.183899Z\", \"end_time\": \"2023-03-15T15:28:48.899337Z\", \"created_time\": \"2023-03-15T15:26:59.914907Z\", \"created_time_dt\": \"2023-03-15T15:26:59.914907Z\", \"duration\": \"0:01:48\", \"iteration\": \"33\", \"goal\": \"AUC_weighted_max\", \"run_name\": \"RobustScaler, LightGBM\", \"run_properties\": \"copy=True, quantile_range=[25, 75], with_centering=True,\\n             with_scaling=False\", \"primary_metric\": 0.90564157, \"best_metric\": 0.91170888}, {\"run_id\": \"AutoML_0d699f45-e7b2-4248-8bc5-507c4e5b9135_34\", \"run_number\": 1678894056, \"metric\": null, \"status\": \"Completed\", \"run_type\": \"azureml.scriptrun\", \"training_percent\": \"100\", \"start_time\": \"2023-03-15T15:28:53.430428Z\", \"end_time\": \"2023-03-15T15:29:27.440151Z\", \"created_time\": \"2023-03-15T15:27:36.124908Z\", \"created_time_dt\": \"2023-03-15T15:27:36.124908Z\", \"duration\": \"0:01:51\", \"iteration\": \"34\", \"goal\": \"AUC_weighted_max\", \"run_name\": \"StandardScalerWrapper, XGBoostClassifier\", \"run_properties\": \"copy=True, with_mean=False, with_std=False\", \"primary_metric\": 0.91249845, \"best_metric\": 0.91249845}, {\"run_id\": \"AutoML_0d699f45-e7b2-4248-8bc5-507c4e5b9135_35\", \"run_number\": 1678894094, \"metric\": null, \"status\": \"Completed\", \"run_type\": \"azureml.scriptrun\", \"training_percent\": \"100\", \"start_time\": \"2023-03-15T15:29:30.79495Z\", \"end_time\": \"2023-03-15T15:30:03.403844Z\", \"created_time\": \"2023-03-15T15:28:14.614662Z\", \"created_time_dt\": \"2023-03-15T15:28:14.614662Z\", \"duration\": \"0:01:48\", \"iteration\": \"35\", \"goal\": \"AUC_weighted_max\", \"run_name\": \"MaxAbsScaler, RandomForest\", \"run_properties\": \"copy=True\", \"primary_metric\": 0.73674305, \"best_metric\": 0.91249845}, {\"run_id\": \"AutoML_0d699f45-e7b2-4248-8bc5-507c4e5b9135_36\", \"run_number\": 1678894130, \"metric\": null, \"status\": \"Completed\", \"run_type\": \"azureml.scriptrun\", \"training_percent\": \"100\", \"start_time\": \"2023-03-15T15:30:06.85495Z\", \"end_time\": \"2023-03-15T15:30:42.145836Z\", \"created_time\": \"2023-03-15T15:28:50.77537Z\", \"created_time_dt\": \"2023-03-15T15:28:50.77537Z\", \"duration\": \"0:01:51\", \"iteration\": \"36\", \"goal\": \"AUC_weighted_max\", \"run_name\": \"StandardScalerWrapper, XGBoostClassifier\", \"run_properties\": \"copy=True, with_mean=False, with_std=False\", \"primary_metric\": 0.89155886, \"best_metric\": 0.91249845}, {\"run_id\": \"AutoML_0d699f45-e7b2-4248-8bc5-507c4e5b9135_37\", \"run_number\": 1678894169, \"metric\": null, \"status\": \"Completed\", \"run_type\": \"azureml.scriptrun\", \"training_percent\": \"100\", \"start_time\": \"2023-03-15T15:30:46.18405Z\", \"end_time\": \"2023-03-15T15:31:18.63362Z\", \"created_time\": \"2023-03-15T15:29:29.272736Z\", \"created_time_dt\": \"2023-03-15T15:29:29.272736Z\", \"duration\": \"0:01:49\", \"iteration\": \"37\", \"goal\": \"AUC_weighted_max\", \"run_name\": \"StandardScalerWrapper, LightGBM\", \"run_properties\": \"copy=True, with_mean=False, with_std=True\", \"primary_metric\": 0.88474223, \"best_metric\": 0.91249845}, {\"run_id\": \"AutoML_0d699f45-e7b2-4248-8bc5-507c4e5b9135_38\", \"run_number\": 1678894205, \"metric\": null, \"status\": \"Completed\", \"run_type\": \"azureml.scriptrun\", \"training_percent\": \"100\", \"start_time\": \"2023-03-15T15:31:22.541795Z\", \"end_time\": \"2023-03-15T15:31:56.096094Z\", \"created_time\": \"2023-03-15T15:30:05.079313Z\", \"created_time_dt\": \"2023-03-15T15:30:05.079313Z\", \"duration\": \"0:01:51\", \"iteration\": \"38\", \"goal\": \"AUC_weighted_max\", \"run_name\": \"StandardScalerWrapper, XGBoostClassifier\", \"run_properties\": \"copy=True, with_mean=False, with_std=False\", \"primary_metric\": 0.88224769, \"best_metric\": 0.91249845}, {\"run_id\": \"AutoML_0d699f45-e7b2-4248-8bc5-507c4e5b9135_39\", \"run_number\": 1678894243, \"metric\": null, \"status\": \"Completed\", \"run_type\": \"azureml.scriptrun\", \"training_percent\": \"100\", \"start_time\": \"2023-03-15T15:31:58.914565Z\", \"end_time\": \"2023-03-15T15:32:32.677327Z\", \"created_time\": \"2023-03-15T15:30:43.898915Z\", \"created_time_dt\": \"2023-03-15T15:30:43.898915Z\", \"duration\": \"0:01:48\", \"iteration\": \"39\", \"goal\": \"AUC_weighted_max\", \"run_name\": \"RobustScaler, GradientBoosting\", \"run_properties\": \"copy=True, quantile_range=[25, 75], with_centering=True,\\n             with_scaling=True\", \"primary_metric\": 0.91484263, \"best_metric\": 0.91484263}, {\"run_id\": \"AutoML_0d699f45-e7b2-4248-8bc5-507c4e5b9135_40\", \"run_number\": 1678894281, \"metric\": null, \"status\": \"Completed\", \"run_type\": \"azureml.scriptrun\", \"training_percent\": \"100\", \"start_time\": \"2023-03-15T15:32:35.194282Z\", \"end_time\": \"2023-03-15T15:33:10.092819Z\", \"created_time\": \"2023-03-15T15:31:21.309464Z\", \"created_time_dt\": \"2023-03-15T15:31:21.309464Z\", \"duration\": \"0:01:48\", \"iteration\": \"40\", \"goal\": \"AUC_weighted_max\", \"run_name\": \"StandardScalerWrapper, XGBoostClassifier\", \"run_properties\": \"copy=True, with_mean=False, with_std=False\", \"primary_metric\": 0.90136284, \"best_metric\": 0.91484263}, {\"run_id\": \"AutoML_0d699f45-e7b2-4248-8bc5-507c4e5b9135_41\", \"run_number\": 1678894317, \"metric\": null, \"status\": \"Completed\", \"run_type\": \"azureml.scriptrun\", \"training_percent\": \"100\", \"start_time\": \"2023-03-15T15:33:14.534068Z\", \"end_time\": \"2023-03-15T15:33:46.906022Z\", \"created_time\": \"2023-03-15T15:31:57.817574Z\", \"created_time_dt\": \"2023-03-15T15:31:57.817574Z\", \"duration\": \"0:01:49\", \"iteration\": \"41\", \"goal\": \"AUC_weighted_max\", \"run_name\": \"MaxAbsScaler, GradientBoosting\", \"run_properties\": \"copy=True\", \"primary_metric\": 0.90320426, \"best_metric\": 0.91484263}, {\"run_id\": \"AutoML_0d699f45-e7b2-4248-8bc5-507c4e5b9135_42\", \"run_number\": 1678894354, \"metric\": null, \"status\": \"Canceled\", \"run_type\": \"azureml.scriptrun\", \"training_percent\": \"100\", \"start_time\": \"2023-03-15T15:33:47.770537Z\", \"end_time\": \"2023-03-15T15:33:48.013498Z\", \"created_time\": \"2023-03-15T15:32:34.62332Z\", \"created_time_dt\": \"2023-03-15T15:32:34.62332Z\", \"duration\": \"0:01:13\", \"iteration\": \"42\", \"goal\": null, \"run_name\": \"Canceled\", \"run_properties\": null}, {\"run_id\": \"AutoML_0d699f45-e7b2-4248-8bc5-507c4e5b9135_43\", \"run_number\": 1678894391, \"metric\": null, \"status\": \"Canceled\", \"run_type\": \"azureml.scriptrun\", \"training_percent\": \"100\", \"start_time\": \"2023-03-15T15:33:47.724867Z\", \"end_time\": \"2023-03-15T15:33:48.021945Z\", \"created_time\": \"2023-03-15T15:33:11.963846Z\", \"created_time_dt\": \"2023-03-15T15:33:11.963846Z\", \"duration\": \"0:00:36\", \"iteration\": \"43\", \"goal\": null, \"run_name\": \"Canceled\", \"run_properties\": null}, {\"run_id\": \"AutoML_0d699f45-e7b2-4248-8bc5-507c4e5b9135_44\", \"run_number\": 1678894428, \"metric\": null, \"status\": \"Completed\", \"run_type\": \"azureml.scriptrun\", \"training_percent\": \"100\", \"start_time\": \"2023-03-15T15:34:45.364872Z\", \"end_time\": \"2023-03-15T15:36:17.845563Z\", \"created_time\": \"2023-03-15T15:33:48.971079Z\", \"created_time_dt\": \"2023-03-15T15:33:48.971079Z\", \"duration\": \"0:02:28\", \"iteration\": \"44\", \"goal\": \"AUC_weighted_max\", \"run_name\": \"VotingEnsemble\", \"run_properties\": \"classification_labels=numpy.array([0, 1]\", \"primary_metric\": 0.92021705, \"best_metric\": 0.92021705}], \"children_metrics\": {\"categories\": [0], \"series\": {\"AUC_macro\": [{\"categories\": [\"0\", \"1\", \"2\", \"4\", \"5\", \"7\", \"9\", \"11\", \"15\", \"17\", \"21\", \"22\", \"23\", \"24\", \"25\", \"26\", \"27\", \"28\", \"29\", \"30\", \"31\", \"32\", \"33\", \"34\", \"35\", \"36\", \"37\", \"38\", \"39\", \"40\", \"41\", \"44\"], \"mode\": \"markers\", \"name\": \"AUC_macro\", \"stepped\": false, \"type\": \"scatter\", \"data\": [0.8952333600250076, 0.8991812818442682, 0.8704818563206436, 0.9028265218381921, 0.5058572603005097, 0.8987196431185561, 0.9014470999908643, 0.7996258755419511, 0.8974392617743303, 0.8938556836205578, 0.9109429921834671, 0.9025807023597642, 0.8674226487661842, 0.8877574707519786, 0.9093372460576121, 0.9007338212131117, 0.8987944050673455, 0.8807070010335456, 0.9117088800723812, 0.8714831348380832, 0.8687303076807081, 0.8989504233244509, 0.9056415716498097, 0.9124984494888958, 0.7367430457731945, 0.8915588574257338, 0.8847422311267849, 0.8822476904272099, 0.9148426270716316, 0.9013628379661276, 0.9032042629080385, 0.920217046899198]}, {\"categories\": [\"0\", \"1\", \"2\", \"4\", \"5\", \"7\", \"9\", \"11\", \"15\", \"17\", \"21\", \"22\", \"23\", \"24\", \"25\", \"26\", \"27\", \"28\", \"29\", \"30\", \"31\", \"32\", \"33\", \"34\", \"35\", \"36\", \"37\", \"38\", \"39\", \"40\", \"41\", \"44\"], \"mode\": \"lines\", \"name\": \"AUC_macro_max\", \"stepped\": true, \"type\": \"scatter\", \"data\": [0.8952333600250076, 0.8991812818442682, 0.8991812818442682, 0.9028265218381921, 0.9028265218381921, 0.9028265218381921, 0.9028265218381921, 0.9028265218381921, 0.9028265218381921, 0.9028265218381921, 0.9109429921834671, 0.9109429921834671, 0.9109429921834671, 0.9109429921834671, 0.9109429921834671, 0.9109429921834671, 0.9109429921834671, 0.9109429921834671, 0.9117088800723812, 0.9117088800723812, 0.9117088800723812, 0.9117088800723812, 0.9117088800723812, 0.9124984494888958, 0.9124984494888958, 0.9124984494888958, 0.9124984494888958, 0.9124984494888958, 0.9148426270716316, 0.9148426270716316, 0.9148426270716316, 0.920217046899198]}], \"recall_score_macro\": [{\"categories\": [\"0\", \"1\", \"2\", \"4\", \"5\", \"7\", \"9\", \"11\", \"15\", \"17\", \"21\", \"22\", \"23\", \"24\", \"25\", \"26\", \"27\", \"28\", \"29\", \"30\", \"31\", \"32\", \"33\", \"34\", \"35\", \"36\", \"37\", \"38\", \"39\", \"40\", \"41\", \"44\"], \"mode\": \"markers\", \"name\": \"recall_score_macro\", \"stepped\": false, \"type\": \"scatter\", \"data\": [0.8215480214865225, 0.7912368524242094, 0.7858698108083119, 0.8021075452960463, 0.5462382764387913, 0.8144491540115109, 0.8161445003318573, 0.6708298310829776, 0.7867636333917798, 0.8023905547795707, 0.8219489100716217, 0.7994974215017121, 0.7890289850944885, 0.7917825727857193, 0.8354577265792941, 0.7931090423687677, 0.7775157343292354, 0.8088082401326109, 0.7766185481820493, 0.6585404676051129, 0.7895107246872122, 0.8267606941431312, 0.828827666580813, 0.8185722231302895, 0.5, 0.822354893739619, 0.76468114786307, 0.8117805791653045, 0.8177532884417896, 0.7910603183683846, 0.8123081224966237, 0.8168445582830595]}, {\"categories\": [\"0\", \"1\", \"2\", \"4\", \"5\", \"7\", \"9\", \"11\", \"15\", \"17\", \"21\", \"22\", \"23\", \"24\", \"25\", \"26\", \"27\", \"28\", \"29\", \"30\", \"31\", \"32\", \"33\", \"34\", \"35\", \"36\", \"37\", \"38\", \"39\", \"40\", \"41\", \"44\"], \"mode\": \"lines\", \"name\": \"recall_score_macro_max\", \"stepped\": true, \"type\": \"scatter\", \"data\": [0.8215480214865225, 0.8215480214865225, 0.8215480214865225, 0.8215480214865225, 0.8215480214865225, 0.8215480214865225, 0.8215480214865225, 0.8215480214865225, 0.8215480214865225, 0.8215480214865225, 0.8219489100716217, 0.8219489100716217, 0.8219489100716217, 0.8219489100716217, 0.8354577265792941, 0.8354577265792941, 0.8354577265792941, 0.8354577265792941, 0.8354577265792941, 0.8354577265792941, 0.8354577265792941, 0.8354577265792941, 0.8354577265792941, 0.8354577265792941, 0.8354577265792941, 0.8354577265792941, 0.8354577265792941, 0.8354577265792941, 0.8354577265792941, 0.8354577265792941, 0.8354577265792941, 0.8354577265792941]}], \"f1_score_micro\": [{\"categories\": [\"0\", \"1\", \"2\", \"4\", \"5\", \"7\", \"9\", \"11\", \"15\", \"17\", \"21\", \"22\", \"23\", \"24\", \"25\", \"26\", \"27\", \"28\", \"29\", \"30\", \"31\", \"32\", \"33\", \"34\", \"35\", \"36\", \"37\", \"38\", \"39\", \"40\", \"41\", \"44\"], \"mode\": \"markers\", \"name\": \"f1_score_micro\", \"stepped\": false, \"type\": \"scatter\", \"data\": [0.8526436781609196, 0.8126436781609195, 0.8291954022988506, 0.8426436781609198, 0.6424137931034484, 0.8394252873563219, 0.8394252873563219, 0.7524137931034482, 0.8190804597701149, 0.8260919540229885, 0.8527586206896552, 0.842528735632184, 0.792528735632184, 0.8193103448275861, 0.8424137931034483, 0.8359770114942527, 0.8326436781609197, 0.8394252873563218, 0.8160919540229885, 0.7694252873563219, 0.8358620689655172, 0.8257471264367817, 0.8559770114942529, 0.859425287356322, 0.6791954022988507, 0.8360919540229885, 0.8125287356321838, 0.8357471264367817, 0.8529885057471265, 0.8359770114942527, 0.8394252873563218, 0.8494252873563217]}, {\"categories\": [\"0\", \"1\", \"2\", \"4\", \"5\", \"7\", \"9\", \"11\", \"15\", \"17\", \"21\", \"22\", \"23\", \"24\", \"25\", \"26\", \"27\", \"28\", \"29\", \"30\", \"31\", \"32\", \"33\", \"34\", \"35\", \"36\", \"37\", \"38\", \"39\", \"40\", \"41\", \"44\"], \"mode\": \"lines\", \"name\": \"f1_score_micro_max\", \"stepped\": true, \"type\": \"scatter\", \"data\": [0.8526436781609196, 0.8526436781609196, 0.8526436781609196, 0.8526436781609196, 0.8526436781609196, 0.8526436781609196, 0.8526436781609196, 0.8526436781609196, 0.8526436781609196, 0.8526436781609196, 0.8527586206896552, 0.8527586206896552, 0.8527586206896552, 0.8527586206896552, 0.8527586206896552, 0.8527586206896552, 0.8527586206896552, 0.8527586206896552, 0.8527586206896552, 0.8527586206896552, 0.8527586206896552, 0.8527586206896552, 0.8559770114942529, 0.859425287356322, 0.859425287356322, 0.859425287356322, 0.859425287356322, 0.859425287356322, 0.859425287356322, 0.859425287356322, 0.859425287356322, 0.859425287356322]}], \"recall_score_weighted\": [{\"categories\": [\"0\", \"1\", \"2\", \"4\", \"5\", \"7\", \"9\", \"11\", \"15\", \"17\", \"21\", \"22\", \"23\", \"24\", \"25\", \"26\", \"27\", \"28\", \"29\", \"30\", \"31\", \"32\", \"33\", \"34\", \"35\", \"36\", \"37\", \"38\", \"39\", \"40\", \"41\", \"44\"], \"mode\": \"markers\", \"name\": \"recall_score_weighted\", \"stepped\": false, \"type\": \"scatter\", \"data\": [0.8526436781609196, 0.8126436781609195, 0.8291954022988506, 0.8426436781609198, 0.6424137931034483, 0.8394252873563219, 0.8394252873563219, 0.7524137931034482, 0.8190804597701149, 0.8260919540229885, 0.8527586206896552, 0.842528735632184, 0.792528735632184, 0.8193103448275861, 0.8424137931034483, 0.8359770114942527, 0.8326436781609197, 0.8394252873563218, 0.8160919540229885, 0.7694252873563219, 0.8358620689655172, 0.8257471264367817, 0.8559770114942529, 0.859425287356322, 0.6791954022988507, 0.8360919540229885, 0.8125287356321838, 0.8357471264367817, 0.8529885057471265, 0.8359770114942527, 0.8394252873563218, 0.8494252873563217]}, {\"categories\": [\"0\", \"1\", \"2\", \"4\", \"5\", \"7\", \"9\", \"11\", \"15\", \"17\", \"21\", \"22\", \"23\", \"24\", \"25\", \"26\", \"27\", \"28\", \"29\", \"30\", \"31\", \"32\", \"33\", \"34\", \"35\", \"36\", \"37\", \"38\", \"39\", \"40\", \"41\", \"44\"], \"mode\": \"lines\", \"name\": \"recall_score_weighted_max\", \"stepped\": true, \"type\": \"scatter\", \"data\": [0.8526436781609196, 0.8526436781609196, 0.8526436781609196, 0.8526436781609196, 0.8526436781609196, 0.8526436781609196, 0.8526436781609196, 0.8526436781609196, 0.8526436781609196, 0.8526436781609196, 0.8527586206896552, 0.8527586206896552, 0.8527586206896552, 0.8527586206896552, 0.8527586206896552, 0.8527586206896552, 0.8527586206896552, 0.8527586206896552, 0.8527586206896552, 0.8527586206896552, 0.8527586206896552, 0.8527586206896552, 0.8559770114942529, 0.859425287356322, 0.859425287356322, 0.859425287356322, 0.859425287356322, 0.859425287356322, 0.859425287356322, 0.859425287356322, 0.859425287356322, 0.859425287356322]}], \"accuracy\": [{\"categories\": [\"0\", \"1\", \"2\", \"4\", \"5\", \"7\", \"9\", \"11\", \"15\", \"17\", \"21\", \"22\", \"23\", \"24\", \"25\", \"26\", \"27\", \"28\", \"29\", \"30\", \"31\", \"32\", \"33\", \"34\", \"35\", \"36\", \"37\", \"38\", \"39\", \"40\", \"41\", \"44\"], \"mode\": \"markers\", \"name\": \"accuracy\", \"stepped\": false, \"type\": \"scatter\", \"data\": [0.8526436781609196, 0.8126436781609195, 0.8291954022988506, 0.8426436781609198, 0.6424137931034483, 0.8394252873563219, 0.8394252873563219, 0.7524137931034482, 0.8190804597701149, 0.8260919540229885, 0.8527586206896552, 0.842528735632184, 0.792528735632184, 0.8193103448275861, 0.8424137931034483, 0.8359770114942527, 0.8326436781609197, 0.8394252873563218, 0.8160919540229885, 0.7694252873563219, 0.8358620689655172, 0.8257471264367817, 0.8559770114942529, 0.859425287356322, 0.6791954022988507, 0.8360919540229885, 0.8125287356321838, 0.8357471264367817, 0.8529885057471265, 0.8359770114942527, 0.8394252873563218, 0.8494252873563217]}, {\"categories\": [\"0\", \"1\", \"2\", \"4\", \"5\", \"7\", \"9\", \"11\", \"15\", \"17\", \"21\", \"22\", \"23\", \"24\", \"25\", \"26\", \"27\", \"28\", \"29\", \"30\", \"31\", \"32\", \"33\", \"34\", \"35\", \"36\", \"37\", \"38\", \"39\", \"40\", \"41\", \"44\"], \"mode\": \"lines\", \"name\": \"accuracy_max\", \"stepped\": true, \"type\": \"scatter\", \"data\": [0.8526436781609196, 0.8526436781609196, 0.8526436781609196, 0.8526436781609196, 0.8526436781609196, 0.8526436781609196, 0.8526436781609196, 0.8526436781609196, 0.8526436781609196, 0.8526436781609196, 0.8527586206896552, 0.8527586206896552, 0.8527586206896552, 0.8527586206896552, 0.8527586206896552, 0.8527586206896552, 0.8527586206896552, 0.8527586206896552, 0.8527586206896552, 0.8527586206896552, 0.8527586206896552, 0.8527586206896552, 0.8559770114942529, 0.859425287356322, 0.859425287356322, 0.859425287356322, 0.859425287356322, 0.859425287356322, 0.859425287356322, 0.859425287356322, 0.859425287356322, 0.859425287356322]}], \"weighted_accuracy\": [{\"categories\": [\"0\", \"1\", \"2\", \"4\", \"5\", \"7\", \"9\", \"11\", \"15\", \"17\", \"21\", \"22\", \"23\", \"24\", \"25\", \"26\", \"27\", \"28\", \"29\", \"30\", \"31\", \"32\", \"33\", \"34\", \"35\", \"36\", \"37\", \"38\", \"39\", \"40\", \"41\", \"44\"], \"mode\": \"markers\", \"name\": \"weighted_accuracy\", \"stepped\": false, \"type\": \"scatter\", \"data\": [0.8721435014988043, 0.8270247482143279, 0.8577688782409723, 0.8668423314415131, 0.7077252561233643, 0.8549945346734539, 0.8541905195434104, 0.8049479303327519, 0.8384067446686876, 0.840801322562886, 0.8720023113202362, 0.8717111290642224, 0.794035685460014, 0.8365851853897558, 0.8463919077117016, 0.8628577453843678, 0.8676512008442003, 0.8593803664786863, 0.8435693390244967, 0.8380661943046819, 0.8649836986473826, 0.8241900243362092, 0.8729602052786387, 0.8856145856190135, 0.7931711479234276, 0.8463824565743705, 0.8429305415883132, 0.8516142605531695, 0.8761822791870667, 0.8655348430577368, 0.8571098639576299, 0.8707415518844306]}, {\"categories\": [\"0\", \"1\", \"2\", \"4\", \"5\", \"7\", \"9\", \"11\", \"15\", \"17\", \"21\", \"22\", \"23\", \"24\", \"25\", \"26\", \"27\", \"28\", \"29\", \"30\", \"31\", \"32\", \"33\", \"34\", \"35\", \"36\", \"37\", \"38\", \"39\", \"40\", \"41\", \"44\"], \"mode\": \"lines\", \"name\": \"weighted_accuracy_max\", \"stepped\": true, \"type\": \"scatter\", \"data\": [0.8721435014988043, 0.8721435014988043, 0.8721435014988043, 0.8721435014988043, 0.8721435014988043, 0.8721435014988043, 0.8721435014988043, 0.8721435014988043, 0.8721435014988043, 0.8721435014988043, 0.8721435014988043, 0.8721435014988043, 0.8721435014988043, 0.8721435014988043, 0.8721435014988043, 0.8721435014988043, 0.8721435014988043, 0.8721435014988043, 0.8721435014988043, 0.8721435014988043, 0.8721435014988043, 0.8721435014988043, 0.8729602052786387, 0.8856145856190135, 0.8856145856190135, 0.8856145856190135, 0.8856145856190135, 0.8856145856190135, 0.8856145856190135, 0.8856145856190135, 0.8856145856190135, 0.8856145856190135]}], \"AUC_weighted\": [{\"categories\": [\"0\", \"1\", \"2\", \"4\", \"5\", \"7\", \"9\", \"11\", \"15\", \"17\", \"21\", \"22\", \"23\", \"24\", \"25\", \"26\", \"27\", \"28\", \"29\", \"30\", \"31\", \"32\", \"33\", \"34\", \"35\", \"36\", \"37\", \"38\", \"39\", \"40\", \"41\", \"44\"], \"mode\": \"markers\", \"name\": \"AUC_weighted\", \"stepped\": false, \"type\": \"scatter\", \"data\": [0.8952333600250076, 0.8991812818442682, 0.8704818563206436, 0.9028265218381921, 0.5058572603005097, 0.8987196431185561, 0.9014470999908643, 0.7996258755419511, 0.8974392617743303, 0.8938556836205578, 0.9109429921834671, 0.9025807023597642, 0.867422648766184, 0.8877574707519788, 0.9093372460576121, 0.9007338212131117, 0.8987944050673455, 0.8807070010335456, 0.9117088800723812, 0.8714831348380832, 0.8687303076807081, 0.8989504233244509, 0.9056415716498097, 0.9124984494888958, 0.7367430457731945, 0.8915588574257338, 0.8847422311267849, 0.8822476904272099, 0.9148426270716318, 0.9013628379661276, 0.9032042629080387, 0.920217046899198]}, {\"categories\": [\"0\", \"1\", \"2\", \"4\", \"5\", \"7\", \"9\", \"11\", \"15\", \"17\", \"21\", \"22\", \"23\", \"24\", \"25\", \"26\", \"27\", \"28\", \"29\", \"30\", \"31\", \"32\", \"33\", \"34\", \"35\", \"36\", \"37\", \"38\", \"39\", \"40\", \"41\", \"44\"], \"mode\": \"lines\", \"name\": \"AUC_weighted_max\", \"stepped\": true, \"type\": \"scatter\", \"data\": [0.8952333600250076, 0.8991812818442682, 0.8991812818442682, 0.9028265218381921, 0.9028265218381921, 0.9028265218381921, 0.9028265218381921, 0.9028265218381921, 0.9028265218381921, 0.9028265218381921, 0.9109429921834671, 0.9109429921834671, 0.9109429921834671, 0.9109429921834671, 0.9109429921834671, 0.9109429921834671, 0.9109429921834671, 0.9109429921834671, 0.9117088800723812, 0.9117088800723812, 0.9117088800723812, 0.9117088800723812, 0.9117088800723812, 0.9124984494888958, 0.9124984494888958, 0.9124984494888958, 0.9124984494888958, 0.9124984494888958, 0.9148426270716318, 0.9148426270716318, 0.9148426270716318, 0.920217046899198]}], \"norm_macro_recall\": [{\"categories\": [\"0\", \"1\", \"2\", \"4\", \"5\", \"7\", \"9\", \"11\", \"15\", \"17\", \"21\", \"22\", \"23\", \"24\", \"25\", \"26\", \"27\", \"28\", \"29\", \"30\", \"31\", \"32\", \"33\", \"34\", \"35\", \"36\", \"37\", \"38\", \"39\", \"40\", \"41\", \"44\"], \"mode\": \"markers\", \"name\": \"norm_macro_recall\", \"stepped\": false, \"type\": \"scatter\", \"data\": [0.6430960429730452, 0.5824737048484188, 0.5717396216166238, 0.6042150905920927, 0.1312714568040655, 0.6288983080230219, 0.6322890006637146, 0.3416596621659551, 0.5735272667835597, 0.6047811095591415, 0.6438978201432435, 0.5989948430034241, 0.5780579701889771, 0.5835651455714385, 0.6709154531585882, 0.5862180847375354, 0.555031468658471, 0.6176164802652215, 0.5532370963640986, 0.3170809352102258, 0.5790214493744242, 0.6535213882862625, 0.657655333161626, 0.637144446260579, 0.0, 0.6447097874792382, 0.5293622957261401, 0.6235611583306092, 0.6355065768835791, 0.5821206367367694, 0.6246162449932473, 0.6336891165661188]}, {\"categories\": [\"0\", \"1\", \"2\", \"4\", \"5\", \"7\", \"9\", \"11\", \"15\", \"17\", \"21\", \"22\", \"23\", \"24\", \"25\", \"26\", \"27\", \"28\", \"29\", \"30\", \"31\", \"32\", \"33\", \"34\", \"35\", \"36\", \"37\", \"38\", \"39\", \"40\", \"41\", \"44\"], \"mode\": \"lines\", \"name\": \"norm_macro_recall_max\", \"stepped\": true, \"type\": \"scatter\", \"data\": [0.6430960429730452, 0.6430960429730452, 0.6430960429730452, 0.6430960429730452, 0.6430960429730452, 0.6430960429730452, 0.6430960429730452, 0.6430960429730452, 0.6430960429730452, 0.6430960429730452, 0.6438978201432435, 0.6438978201432435, 0.6438978201432435, 0.6438978201432435, 0.6709154531585882, 0.6709154531585882, 0.6709154531585882, 0.6709154531585882, 0.6709154531585882, 0.6709154531585882, 0.6709154531585882, 0.6709154531585882, 0.6709154531585882, 0.6709154531585882, 0.6709154531585882, 0.6709154531585882, 0.6709154531585882, 0.6709154531585882, 0.6709154531585882, 0.6709154531585882, 0.6709154531585882, 0.6709154531585882]}], \"balanced_accuracy\": [{\"categories\": [\"0\", \"1\", \"2\", \"4\", \"5\", \"7\", \"9\", \"11\", \"15\", \"17\", \"21\", \"22\", \"23\", \"24\", \"25\", \"26\", \"27\", \"28\", \"29\", \"30\", \"31\", \"32\", \"33\", \"34\", \"35\", \"36\", \"37\", \"38\", \"39\", \"40\", \"41\", \"44\"], \"mode\": \"markers\", \"name\": \"balanced_accuracy\", \"stepped\": false, \"type\": \"scatter\", \"data\": [0.8215480214865225, 0.7912368524242094, 0.7858698108083119, 0.8021075452960463, 0.5462382764387913, 0.8144491540115109, 0.8161445003318573, 0.6708298310829776, 0.7867636333917798, 0.8023905547795707, 0.8219489100716217, 0.7994974215017121, 0.7890289850944885, 0.7917825727857193, 0.8354577265792941, 0.7931090423687677, 0.7775157343292354, 0.8088082401326109, 0.7766185481820493, 0.6585404676051129, 0.7895107246872122, 0.8267606941431312, 0.828827666580813, 0.8185722231302895, 0.5, 0.822354893739619, 0.76468114786307, 0.8117805791653045, 0.8177532884417896, 0.7910603183683846, 0.8123081224966237, 0.8168445582830595]}, {\"categories\": [\"0\", \"1\", \"2\", \"4\", \"5\", \"7\", \"9\", \"11\", \"15\", \"17\", \"21\", \"22\", \"23\", \"24\", \"25\", \"26\", \"27\", \"28\", \"29\", \"30\", \"31\", \"32\", \"33\", \"34\", \"35\", \"36\", \"37\", \"38\", \"39\", \"40\", \"41\", \"44\"], \"mode\": \"lines\", \"name\": \"balanced_accuracy_max\", \"stepped\": true, \"type\": \"scatter\", \"data\": [0.8215480214865225, 0.8215480214865225, 0.8215480214865225, 0.8215480214865225, 0.8215480214865225, 0.8215480214865225, 0.8215480214865225, 0.8215480214865225, 0.8215480214865225, 0.8215480214865225, 0.8219489100716217, 0.8219489100716217, 0.8219489100716217, 0.8219489100716217, 0.8354577265792941, 0.8354577265792941, 0.8354577265792941, 0.8354577265792941, 0.8354577265792941, 0.8354577265792941, 0.8354577265792941, 0.8354577265792941, 0.8354577265792941, 0.8354577265792941, 0.8354577265792941, 0.8354577265792941, 0.8354577265792941, 0.8354577265792941, 0.8354577265792941, 0.8354577265792941, 0.8354577265792941, 0.8354577265792941]}], \"matthews_correlation\": [{\"categories\": [\"0\", \"1\", \"2\", \"4\", \"5\", \"7\", \"9\", \"11\", \"15\", \"17\", \"21\", \"22\", \"23\", \"24\", \"25\", \"26\", \"27\", \"28\", \"29\", \"30\", \"31\", \"32\", \"33\", \"34\", \"35\", \"36\", \"37\", \"38\", \"39\", \"40\", \"41\", \"44\"], \"mode\": \"markers\", \"name\": \"matthews_correlation\", \"stepped\": false, \"type\": \"scatter\", \"data\": [0.6609732322714985, 0.5798728950037678, 0.61148522092103, 0.6311157198386576, 0.0819796276020419, 0.6445491733472472, 0.6343302320013728, 0.40467748491805045, 0.587814046977178, 0.6029456172754759, 0.6619686569978978, 0.6355957161584439, 0.5585540540065608, 0.5934919857734698, 0.6450570506022701, 0.6224335277606176, 0.6120717883338016, 0.6457483928875167, 0.5785135554328228, 0.43289958423711916, 0.6087732582373548, 0.6252978653336227, 0.6768078897740004, 0.6754863814295003, 0.0, 0.6359030335463263, 0.561583338463645, 0.6233990680450083, 0.6685479350610928, 0.6166496738975804, 0.6303657963012403, 0.6521289628684258]}, {\"categories\": [\"0\", \"1\", \"2\", \"4\", \"5\", \"7\", \"9\", \"11\", \"15\", \"17\", \"21\", \"22\", \"23\", \"24\", \"25\", \"26\", \"27\", \"28\", \"29\", \"30\", \"31\", \"32\", \"33\", \"34\", \"35\", \"36\", \"37\", \"38\", \"39\", \"40\", \"41\", \"44\"], \"mode\": \"lines\", \"name\": \"matthews_correlation_max\", \"stepped\": true, \"type\": \"scatter\", \"data\": [0.6609732322714985, 0.6609732322714985, 0.6609732322714985, 0.6609732322714985, 0.6609732322714985, 0.6609732322714985, 0.6609732322714985, 0.6609732322714985, 0.6609732322714985, 0.6609732322714985, 0.6619686569978978, 0.6619686569978978, 0.6619686569978978, 0.6619686569978978, 0.6619686569978978, 0.6619686569978978, 0.6619686569978978, 0.6619686569978978, 0.6619686569978978, 0.6619686569978978, 0.6619686569978978, 0.6619686569978978, 0.6768078897740004, 0.6768078897740004, 0.6768078897740004, 0.6768078897740004, 0.6768078897740004, 0.6768078897740004, 0.6768078897740004, 0.6768078897740004, 0.6768078897740004, 0.6768078897740004]}], \"average_precision_score_macro\": [{\"categories\": [\"0\", \"1\", \"2\", \"4\", \"5\", \"7\", \"9\", \"11\", \"15\", \"17\", \"21\", \"22\", \"23\", \"24\", \"25\", \"26\", \"27\", \"28\", \"29\", \"30\", \"31\", \"32\", \"33\", \"34\", \"35\", \"36\", \"37\", \"38\", \"39\", \"40\", \"41\", \"44\"], \"mode\": \"markers\", \"name\": \"average_precision_score_macro\", \"stepped\": false, \"type\": \"scatter\", \"data\": [0.8914391239798902, 0.8913167742808195, 0.8675052002849236, 0.8934003299914126, 0.5741193378226761, 0.8926558109675286, 0.8927386527348566, 0.7828410796274896, 0.8925001154211426, 0.885164257670106, 0.9031803495351521, 0.8933891279154965, 0.8522056473141492, 0.883798194963278, 0.9011239122054322, 0.8916555831014848, 0.8943328459102821, 0.8774521258029895, 0.9057062794480807, 0.8725934799754, 0.8570182851089229, 0.8870801908634286, 0.8983323861657089, 0.9031634334233664, 0.6892606797620404, 0.8883801382878709, 0.8795931846716387, 0.8734188702064423, 0.9095958979429923, 0.8848880315334874, 0.8911612347935884, 0.91293916795588]}, {\"categories\": [\"0\", \"1\", \"2\", \"4\", \"5\", \"7\", \"9\", \"11\", \"15\", \"17\", \"21\", \"22\", \"23\", \"24\", \"25\", \"26\", \"27\", \"28\", \"29\", \"30\", \"31\", \"32\", \"33\", \"34\", \"35\", \"36\", \"37\", \"38\", \"39\", \"40\", \"41\", \"44\"], \"mode\": \"lines\", \"name\": \"average_precision_score_macro_max\", \"stepped\": true, \"type\": \"scatter\", \"data\": [0.8914391239798902, 0.8914391239798902, 0.8914391239798902, 0.8934003299914126, 0.8934003299914126, 0.8934003299914126, 0.8934003299914126, 0.8934003299914126, 0.8934003299914126, 0.8934003299914126, 0.9031803495351521, 0.9031803495351521, 0.9031803495351521, 0.9031803495351521, 0.9031803495351521, 0.9031803495351521, 0.9031803495351521, 0.9031803495351521, 0.9057062794480807, 0.9057062794480807, 0.9057062794480807, 0.9057062794480807, 0.9057062794480807, 0.9057062794480807, 0.9057062794480807, 0.9057062794480807, 0.9057062794480807, 0.9057062794480807, 0.9095958979429923, 0.9095958979429923, 0.9095958979429923, 0.91293916795588]}], \"recall_score_micro\": [{\"categories\": [\"0\", \"1\", \"2\", \"4\", \"5\", \"7\", \"9\", \"11\", \"15\", \"17\", \"21\", \"22\", \"23\", \"24\", \"25\", \"26\", \"27\", \"28\", \"29\", \"30\", \"31\", \"32\", \"33\", \"34\", \"35\", \"36\", \"37\", \"38\", \"39\", \"40\", \"41\", \"44\"], \"mode\": \"markers\", \"name\": \"recall_score_micro\", \"stepped\": false, \"type\": \"scatter\", \"data\": [0.8526436781609196, 0.8126436781609195, 0.8291954022988506, 0.8426436781609198, 0.6424137931034483, 0.8394252873563219, 0.8394252873563219, 0.7524137931034482, 0.8190804597701149, 0.8260919540229885, 0.8527586206896552, 0.842528735632184, 0.792528735632184, 0.8193103448275861, 0.8424137931034483, 0.8359770114942527, 0.8326436781609197, 0.8394252873563218, 0.8160919540229885, 0.7694252873563219, 0.8358620689655172, 0.8257471264367817, 0.8559770114942529, 0.859425287356322, 0.6791954022988507, 0.8360919540229885, 0.8125287356321838, 0.8357471264367817, 0.8529885057471265, 0.8359770114942527, 0.8394252873563218, 0.8494252873563217]}, {\"categories\": [\"0\", \"1\", \"2\", \"4\", \"5\", \"7\", \"9\", \"11\", \"15\", \"17\", \"21\", \"22\", \"23\", \"24\", \"25\", \"26\", \"27\", \"28\", \"29\", \"30\", \"31\", \"32\", \"33\", \"34\", \"35\", \"36\", \"37\", \"38\", \"39\", \"40\", \"41\", \"44\"], \"mode\": \"lines\", \"name\": \"recall_score_micro_max\", \"stepped\": true, \"type\": \"scatter\", \"data\": [0.8526436781609196, 0.8526436781609196, 0.8526436781609196, 0.8526436781609196, 0.8526436781609196, 0.8526436781609196, 0.8526436781609196, 0.8526436781609196, 0.8526436781609196, 0.8526436781609196, 0.8527586206896552, 0.8527586206896552, 0.8527586206896552, 0.8527586206896552, 0.8527586206896552, 0.8527586206896552, 0.8527586206896552, 0.8527586206896552, 0.8527586206896552, 0.8527586206896552, 0.8527586206896552, 0.8527586206896552, 0.8559770114942529, 0.859425287356322, 0.859425287356322, 0.859425287356322, 0.859425287356322, 0.859425287356322, 0.859425287356322, 0.859425287356322, 0.859425287356322, 0.859425287356322]}], \"average_precision_score_micro\": [{\"categories\": [\"0\", \"1\", \"2\", \"4\", \"5\", \"7\", \"9\", \"11\", \"15\", \"17\", \"21\", \"22\", \"23\", \"24\", \"25\", \"26\", \"27\", \"28\", \"29\", \"30\", \"31\", \"32\", \"33\", \"34\", \"35\", \"36\", \"37\", \"38\", \"39\", \"40\", \"41\", \"44\"], \"mode\": \"markers\", \"name\": \"average_precision_score_micro\", \"stepped\": false, \"type\": \"scatter\", \"data\": [0.9118998393040524, 0.9087324507605287, 0.8887578044231906, 0.914602163965396, 0.6528425787987014, 0.9110388057446771, 0.9145186945926189, 0.8171953731364903, 0.9043850612630411, 0.9011696788416186, 0.9173110157482451, 0.9106415820615423, 0.861974341731363, 0.8962475419723172, 0.9152826446975822, 0.9173949758685076, 0.9129151104166018, 0.8987738106684795, 0.9191012287984581, 0.8648931165438535, 0.8927573904302634, 0.8995384262326913, 0.9208793353966331, 0.9178860612136871, 0.7822455455109841, 0.9061405987880018, 0.9045090200687346, 0.8991462440342908, 0.9243393118970049, 0.9011270562006324, 0.9172240395284451, 0.9270237373734064]}, {\"categories\": [\"0\", \"1\", \"2\", \"4\", \"5\", \"7\", \"9\", \"11\", \"15\", \"17\", \"21\", \"22\", \"23\", \"24\", \"25\", \"26\", \"27\", \"28\", \"29\", \"30\", \"31\", \"32\", \"33\", \"34\", \"35\", \"36\", \"37\", \"38\", \"39\", \"40\", \"41\", \"44\"], \"mode\": \"lines\", \"name\": \"average_precision_score_micro_max\", \"stepped\": true, \"type\": \"scatter\", \"data\": [0.9118998393040524, 0.9118998393040524, 0.9118998393040524, 0.914602163965396, 0.914602163965396, 0.914602163965396, 0.914602163965396, 0.914602163965396, 0.914602163965396, 0.914602163965396, 0.9173110157482451, 0.9173110157482451, 0.9173110157482451, 0.9173110157482451, 0.9173110157482451, 0.9173949758685076, 0.9173949758685076, 0.9173949758685076, 0.9191012287984581, 0.9191012287984581, 0.9191012287984581, 0.9191012287984581, 0.9208793353966331, 0.9208793353966331, 0.9208793353966331, 0.9208793353966331, 0.9208793353966331, 0.9208793353966331, 0.9243393118970049, 0.9243393118970049, 0.9243393118970049, 0.9270237373734064]}], \"f1_score_macro\": [{\"categories\": [\"0\", \"1\", \"2\", \"4\", \"5\", \"7\", \"9\", \"11\", \"15\", \"17\", \"21\", \"22\", \"23\", \"24\", \"25\", \"26\", \"27\", \"28\", \"29\", \"30\", \"31\", \"32\", \"33\", \"34\", \"35\", \"36\", \"37\", \"38\", \"39\", \"40\", \"41\", \"44\"], \"mode\": \"markers\", \"name\": \"f1_score_macro\", \"stepped\": false, \"type\": \"scatter\", \"data\": [0.8229109664388268, 0.7787612554397809, 0.7904907160094232, 0.8047838646776991, 0.5099311378159193, 0.8126144788065934, 0.8089404655917963, 0.6715948942361986, 0.7819980584343218, 0.7939337913772592, 0.8222702560597297, 0.8055588441220245, 0.7627173409308519, 0.7845071918586952, 0.8163669337539868, 0.7934187592786736, 0.7887210541630117, 0.8087112345159181, 0.7739008244487777, 0.6511464709128232, 0.7973218394812283, 0.8031884996422811, 0.8281754715312927, 0.8285453563567774, 0.4024893878511494, 0.807940633520033, 0.7621844028929721, 0.8041082373378975, 0.8216594716161992, 0.796071674161138, 0.8066689593193743, 0.8161771161609213]}, {\"categories\": [\"0\", \"1\", \"2\", \"4\", \"5\", \"7\", \"9\", \"11\", \"15\", \"17\", \"21\", \"22\", \"23\", \"24\", \"25\", \"26\", \"27\", \"28\", \"29\", \"30\", \"31\", \"32\", \"33\", \"34\", \"35\", \"36\", \"37\", \"38\", \"39\", \"40\", \"41\", \"44\"], \"mode\": \"lines\", \"name\": \"f1_score_macro_max\", \"stepped\": true, \"type\": \"scatter\", \"data\": [0.8229109664388268, 0.8229109664388268, 0.8229109664388268, 0.8229109664388268, 0.8229109664388268, 0.8229109664388268, 0.8229109664388268, 0.8229109664388268, 0.8229109664388268, 0.8229109664388268, 0.8229109664388268, 0.8229109664388268, 0.8229109664388268, 0.8229109664388268, 0.8229109664388268, 0.8229109664388268, 0.8229109664388268, 0.8229109664388268, 0.8229109664388268, 0.8229109664388268, 0.8229109664388268, 0.8229109664388268, 0.8281754715312927, 0.8285453563567774, 0.8285453563567774, 0.8285453563567774, 0.8285453563567774, 0.8285453563567774, 0.8285453563567774, 0.8285453563567774, 0.8285453563567774, 0.8285453563567774]}], \"precision_score_weighted\": [{\"categories\": [\"0\", \"1\", \"2\", \"4\", \"5\", \"7\", \"9\", \"11\", \"15\", \"17\", \"21\", \"22\", \"23\", \"24\", \"25\", \"26\", \"27\", \"28\", \"29\", \"30\", \"31\", \"32\", \"33\", \"34\", \"35\", \"36\", \"37\", \"38\", \"39\", \"40\", \"41\", \"44\"], \"mode\": \"markers\", \"name\": \"precision_score_weighted\", \"stepped\": false, \"type\": \"scatter\", \"data\": [0.8605602523953744, 0.8310647949075513, 0.8435645835099871, 0.8531971460769195, 0.6029834921330174, 0.8534436545463532, 0.8527570224627945, 0.766470479447006, 0.838104223362844, 0.8381724256658544, 0.8633735297832661, 0.8538900686020627, 0.8303048768950072, 0.8363226635655421, 0.8596767949854642, 0.8550915904657284, 0.84736419673761, 0.8582613647388759, 0.8336859985591621, 0.8071889464811752, 0.8408786814385015, 0.8521610059542963, 0.8691686047593755, 0.8673644609180592, 0.47055053507728895, 0.8528711080722722, 0.8293063169505093, 0.846458279594159, 0.8660178505244985, 0.8469609053698258, 0.8500123343811501, 0.8605507863147427]}, {\"categories\": [\"0\", \"1\", \"2\", \"4\", \"5\", \"7\", \"9\", \"11\", \"15\", \"17\", \"21\", \"22\", \"23\", \"24\", \"25\", \"26\", \"27\", \"28\", \"29\", \"30\", \"31\", \"32\", \"33\", \"34\", \"35\", \"36\", \"37\", \"38\", \"39\", \"40\", \"41\", \"44\"], \"mode\": \"lines\", \"name\": \"precision_score_weighted_max\", \"stepped\": true, \"type\": \"scatter\", \"data\": [0.8605602523953744, 0.8605602523953744, 0.8605602523953744, 0.8605602523953744, 0.8605602523953744, 0.8605602523953744, 0.8605602523953744, 0.8605602523953744, 0.8605602523953744, 0.8605602523953744, 0.8633735297832661, 0.8633735297832661, 0.8633735297832661, 0.8633735297832661, 0.8633735297832661, 0.8633735297832661, 0.8633735297832661, 0.8633735297832661, 0.8633735297832661, 0.8633735297832661, 0.8633735297832661, 0.8633735297832661, 0.8691686047593755, 0.8691686047593755, 0.8691686047593755, 0.8691686047593755, 0.8691686047593755, 0.8691686047593755, 0.8691686047593755, 0.8691686047593755, 0.8691686047593755, 0.8691686047593755]}], \"f1_score_weighted\": [{\"categories\": [\"0\", \"1\", \"2\", \"4\", \"5\", \"7\", \"9\", \"11\", \"15\", \"17\", \"21\", \"22\", \"23\", \"24\", \"25\", \"26\", \"27\", \"28\", \"29\", \"30\", \"31\", \"32\", \"33\", \"34\", \"35\", \"36\", \"37\", \"38\", \"39\", \"40\", \"41\", \"44\"], \"mode\": \"markers\", \"name\": \"f1_score_weighted\", \"stepped\": false, \"type\": \"scatter\", \"data\": [0.8495734967583646, 0.811006196596899, 0.821415878857868, 0.8370535043784137, 0.5969597383330986, 0.8372827463577017, 0.838128555266262, 0.7304926531323084, 0.8165975089776432, 0.8252150457863141, 0.8494122533647035, 0.8364499241667616, 0.7966623210665318, 0.8161629364819758, 0.8460045976035445, 0.8280232796506933, 0.8236926695779175, 0.8346985742120655, 0.809434082733182, 0.7236144364037267, 0.831587715695188, 0.8308880524500344, 0.8527806337128941, 0.8544947192362076, 0.5534120288954022, 0.8351020182456178, 0.8019808402266941, 0.8339598461169755, 0.8472147569997415, 0.8293789917697438, 0.836280989082187, 0.8451992164852964]}, {\"categories\": [\"0\", \"1\", \"2\", \"4\", \"5\", \"7\", \"9\", \"11\", \"15\", \"17\", \"21\", \"22\", \"23\", \"24\", \"25\", \"26\", \"27\", \"28\", \"29\", \"30\", \"31\", \"32\", \"33\", \"34\", \"35\", \"36\", \"37\", \"38\", \"39\", \"40\", \"41\", \"44\"], \"mode\": \"lines\", \"name\": \"f1_score_weighted_max\", \"stepped\": true, \"type\": \"scatter\", \"data\": [0.8495734967583646, 0.8495734967583646, 0.8495734967583646, 0.8495734967583646, 0.8495734967583646, 0.8495734967583646, 0.8495734967583646, 0.8495734967583646, 0.8495734967583646, 0.8495734967583646, 0.8495734967583646, 0.8495734967583646, 0.8495734967583646, 0.8495734967583646, 0.8495734967583646, 0.8495734967583646, 0.8495734967583646, 0.8495734967583646, 0.8495734967583646, 0.8495734967583646, 0.8495734967583646, 0.8495734967583646, 0.8527806337128941, 0.8544947192362076, 0.8544947192362076, 0.8544947192362076, 0.8544947192362076, 0.8544947192362076, 0.8544947192362076, 0.8544947192362076, 0.8544947192362076, 0.8544947192362076]}], \"log_loss\": [{\"categories\": [\"0\", \"1\", \"2\", \"4\", \"5\", \"7\", \"9\", \"11\", \"15\", \"17\", \"21\", \"22\", \"23\", \"24\", \"25\", \"26\", \"27\", \"28\", \"29\", \"30\", \"31\", \"32\", \"33\", \"34\", \"35\", \"36\", \"37\", \"38\", \"39\", \"40\", \"41\", \"44\"], \"mode\": \"markers\", \"name\": \"log_loss\", \"stepped\": false, \"type\": \"scatter\", \"data\": [0.4598848075595511, 0.5035078522204656, 0.4192321076267197, 0.3933531597307264, 0.7060993088137472, 0.39938315635746396, 0.36957414723553605, 0.5326891368166574, 0.3986005648535029, 0.38695012277836477, 0.35991612592178945, 0.42561247852284356, 0.4626758255676037, 0.4845004849093206, 0.48025198394529794, 0.3857401947874797, 0.41067468311869637, 0.4087396960675145, 0.3957133916577614, 0.48680261954971504, 0.4260964636086636, 0.4710636090187689, 0.35342672854417995, 0.37347708936022533, 0.586068248439936, 0.49739394014390814, 0.39416451770859035, 0.4728864122057367, 0.3658023822210303, 0.43586787908316216, 0.3650332854299493, 0.37321533182395694]}, {\"categories\": [\"0\", \"1\", \"2\", \"4\", \"5\", \"7\", \"9\", \"11\", \"15\", \"17\", \"21\", \"22\", \"23\", \"24\", \"25\", \"26\", \"27\", \"28\", \"29\", \"30\", \"31\", \"32\", \"33\", \"34\", \"35\", \"36\", \"37\", \"38\", \"39\", \"40\", \"41\", \"44\"], \"mode\": \"lines\", \"name\": \"log_loss_min\", \"stepped\": true, \"type\": \"scatter\", \"data\": [0.4598848075595511, 0.4598848075595511, 0.4192321076267197, 0.3933531597307264, 0.3933531597307264, 0.3933531597307264, 0.36957414723553605, 0.36957414723553605, 0.36957414723553605, 0.36957414723553605, 0.35991612592178945, 0.35991612592178945, 0.35991612592178945, 0.35991612592178945, 0.35991612592178945, 0.35991612592178945, 0.35991612592178945, 0.35991612592178945, 0.35991612592178945, 0.35991612592178945, 0.35991612592178945, 0.35991612592178945, 0.35342672854417995, 0.35342672854417995, 0.35342672854417995, 0.35342672854417995, 0.35342672854417995, 0.35342672854417995, 0.35342672854417995, 0.35342672854417995, 0.35342672854417995, 0.35342672854417995]}], \"AUC_micro\": [{\"categories\": [\"0\", \"1\", \"2\", \"4\", \"5\", \"7\", \"9\", \"11\", \"15\", \"17\", \"21\", \"22\", \"23\", \"24\", \"25\", \"26\", \"27\", \"28\", \"29\", \"30\", \"31\", \"32\", \"33\", \"34\", \"35\", \"36\", \"37\", \"38\", \"39\", \"40\", \"41\", \"44\"], \"mode\": \"markers\", \"name\": \"AUC_micro\", \"stepped\": false, \"type\": \"scatter\", \"data\": [0.9107760602457391, 0.9055090500726649, 0.8917254591095256, 0.9095733914651868, 0.6536476416963932, 0.9062107279693485, 0.911423305588585, 0.8172168053904082, 0.9003667591491611, 0.9042146915048223, 0.9170392390011891, 0.9069301096578147, 0.8640823094200026, 0.8938092218258686, 0.9145597833267274, 0.9112692561765094, 0.9099379046109128, 0.8969105562161449, 0.9128326066851633, 0.854450521865504, 0.8887829964328182, 0.9047060377857047, 0.9179203329369798, 0.9166903157616595, 0.7780783458845291, 0.9057838551988372, 0.8994193420531115, 0.8977644338750164, 0.9224817016778966, 0.9019047430307836, 0.9155655965120888, 0.9231015986259743]}, {\"categories\": [\"0\", \"1\", \"2\", \"4\", \"5\", \"7\", \"9\", \"11\", \"15\", \"17\", \"21\", \"22\", \"23\", \"24\", \"25\", \"26\", \"27\", \"28\", \"29\", \"30\", \"31\", \"32\", \"33\", \"34\", \"35\", \"36\", \"37\", \"38\", \"39\", \"40\", \"41\", \"44\"], \"mode\": \"lines\", \"name\": \"AUC_micro_max\", \"stepped\": true, \"type\": \"scatter\", \"data\": [0.9107760602457391, 0.9107760602457391, 0.9107760602457391, 0.9107760602457391, 0.9107760602457391, 0.9107760602457391, 0.911423305588585, 0.911423305588585, 0.911423305588585, 0.911423305588585, 0.9170392390011891, 0.9170392390011891, 0.9170392390011891, 0.9170392390011891, 0.9170392390011891, 0.9170392390011891, 0.9170392390011891, 0.9170392390011891, 0.9170392390011891, 0.9170392390011891, 0.9170392390011891, 0.9170392390011891, 0.9179203329369798, 0.9179203329369798, 0.9179203329369798, 0.9179203329369798, 0.9179203329369798, 0.9179203329369798, 0.9224817016778966, 0.9224817016778966, 0.9224817016778966, 0.9231015986259743]}], \"precision_score_micro\": [{\"categories\": [\"0\", \"1\", \"2\", \"4\", \"5\", \"7\", \"9\", \"11\", \"15\", \"17\", \"21\", \"22\", \"23\", \"24\", \"25\", \"26\", \"27\", \"28\", \"29\", \"30\", \"31\", \"32\", \"33\", \"34\", \"35\", \"36\", \"37\", \"38\", \"39\", \"40\", \"41\", \"44\"], \"mode\": \"markers\", \"name\": \"precision_score_micro\", \"stepped\": false, \"type\": \"scatter\", \"data\": [0.8526436781609196, 0.8126436781609195, 0.8291954022988506, 0.8426436781609198, 0.6424137931034483, 0.8394252873563219, 0.8394252873563219, 0.7524137931034482, 0.8190804597701149, 0.8260919540229885, 0.8527586206896552, 0.842528735632184, 0.792528735632184, 0.8193103448275861, 0.8424137931034483, 0.8359770114942527, 0.8326436781609197, 0.8394252873563218, 0.8160919540229885, 0.7694252873563219, 0.8358620689655172, 0.8257471264367817, 0.8559770114942529, 0.859425287356322, 0.6791954022988507, 0.8360919540229885, 0.8125287356321838, 0.8357471264367817, 0.8529885057471265, 0.8359770114942527, 0.8394252873563218, 0.8494252873563217]}, {\"categories\": [\"0\", \"1\", \"2\", \"4\", \"5\", \"7\", \"9\", \"11\", \"15\", \"17\", \"21\", \"22\", \"23\", \"24\", \"25\", \"26\", \"27\", \"28\", \"29\", \"30\", \"31\", \"32\", \"33\", \"34\", \"35\", \"36\", \"37\", \"38\", \"39\", \"40\", \"41\", \"44\"], \"mode\": \"lines\", \"name\": \"precision_score_micro_max\", \"stepped\": true, \"type\": \"scatter\", \"data\": [0.8526436781609196, 0.8526436781609196, 0.8526436781609196, 0.8526436781609196, 0.8526436781609196, 0.8526436781609196, 0.8526436781609196, 0.8526436781609196, 0.8526436781609196, 0.8526436781609196, 0.8527586206896552, 0.8527586206896552, 0.8527586206896552, 0.8527586206896552, 0.8527586206896552, 0.8527586206896552, 0.8527586206896552, 0.8527586206896552, 0.8527586206896552, 0.8527586206896552, 0.8527586206896552, 0.8527586206896552, 0.8559770114942529, 0.859425287356322, 0.859425287356322, 0.859425287356322, 0.859425287356322, 0.859425287356322, 0.859425287356322, 0.859425287356322, 0.859425287356322, 0.859425287356322]}], \"precision_score_macro\": [{\"categories\": [\"0\", \"1\", \"2\", \"4\", \"5\", \"7\", \"9\", \"11\", \"15\", \"17\", \"21\", \"22\", \"23\", \"24\", \"25\", \"26\", \"27\", \"28\", \"29\", \"30\", \"31\", \"32\", \"33\", \"34\", \"35\", \"36\", \"37\", \"38\", \"39\", \"40\", \"41\", \"44\"], \"mode\": \"markers\", \"name\": \"precision_score_macro\", \"stepped\": false, \"type\": \"scatter\", \"data\": [0.8410434880400557, 0.7906465934269138, 0.829437094751168, 0.8309064928318867, 0.5285095656467471, 0.8321917514852297, 0.8194432680845726, 0.7483823886637186, 0.803408535908536, 0.8016515264453916, 0.8413146645199076, 0.839001976284585, 0.7717295219830049, 0.8043549442548297, 0.8108906898373011, 0.8343728216228217, 0.8402147039755736, 0.84007968607797, 0.8055644488361879, 0.81651989176352, 0.8206491508745513, 0.8000184297127021, 0.8500689669807316, 0.8587884639515077, 0.33959770114942534, 0.8155082740504735, 0.8015572833599149, 0.8128633400035001, 0.8540307438556866, 0.8280084227366835, 0.8193273966371792, 0.8370030231131995]}, {\"categories\": [\"0\", \"1\", \"2\", \"4\", \"5\", \"7\", \"9\", \"11\", \"15\", \"17\", \"21\", \"22\", \"23\", \"24\", \"25\", \"26\", \"27\", \"28\", \"29\", \"30\", \"31\", \"32\", \"33\", \"34\", \"35\", \"36\", \"37\", \"38\", \"39\", \"40\", \"41\", \"44\"], \"mode\": \"lines\", \"name\": \"precision_score_macro_max\", \"stepped\": true, \"type\": \"scatter\", \"data\": [0.8410434880400557, 0.8410434880400557, 0.8410434880400557, 0.8410434880400557, 0.8410434880400557, 0.8410434880400557, 0.8410434880400557, 0.8410434880400557, 0.8410434880400557, 0.8410434880400557, 0.8413146645199076, 0.8413146645199076, 0.8413146645199076, 0.8413146645199076, 0.8413146645199076, 0.8413146645199076, 0.8413146645199076, 0.8413146645199076, 0.8413146645199076, 0.8413146645199076, 0.8413146645199076, 0.8413146645199076, 0.8500689669807316, 0.8587884639515077, 0.8587884639515077, 0.8587884639515077, 0.8587884639515077, 0.8587884639515077, 0.8587884639515077, 0.8587884639515077, 0.8587884639515077, 0.8587884639515077]}], \"average_precision_score_weighted\": [{\"categories\": [\"0\", \"1\", \"2\", \"4\", \"5\", \"7\", \"9\", \"11\", \"15\", \"17\", \"21\", \"22\", \"23\", \"24\", \"25\", \"26\", \"27\", \"28\", \"29\", \"30\", \"31\", \"32\", \"33\", \"34\", \"35\", \"36\", \"37\", \"38\", \"39\", \"40\", \"41\", \"44\"], \"mode\": \"markers\", \"name\": \"average_precision_score_weighted\", \"stepped\": false, \"type\": \"scatter\", \"data\": [0.9151443911131578, 0.9176526709400085, 0.8930789468763246, 0.9200306118964174, 0.6307313459057176, 0.9149280438590782, 0.9167688498113575, 0.8273231359201043, 0.9131962459323406, 0.9108746594259809, 0.9250538117813338, 0.9186889236658369, 0.8886032389371155, 0.9091968522605498, 0.9256832327738342, 0.9199692164954616, 0.9187170653623152, 0.9022277258467106, 0.9300164690656892, 0.8967145626590673, 0.8922477060243329, 0.912433095340224, 0.9221776743870093, 0.9231960783583757, 0.7630975393512195, 0.912772680231542, 0.9087489410313687, 0.9030708876989134, 0.9304117879738554, 0.9120593907997826, 0.915470043449052, 0.9337553152098834]}, {\"categories\": [\"0\", \"1\", \"2\", \"4\", \"5\", \"7\", \"9\", \"11\", \"15\", \"17\", \"21\", \"22\", \"23\", \"24\", \"25\", \"26\", \"27\", \"28\", \"29\", \"30\", \"31\", \"32\", \"33\", \"34\", \"35\", \"36\", \"37\", \"38\", \"39\", \"40\", \"41\", \"44\"], \"mode\": \"lines\", \"name\": \"average_precision_score_weighted_max\", \"stepped\": true, \"type\": \"scatter\", \"data\": [0.9151443911131578, 0.9176526709400085, 0.9176526709400085, 0.9200306118964174, 0.9200306118964174, 0.9200306118964174, 0.9200306118964174, 0.9200306118964174, 0.9200306118964174, 0.9200306118964174, 0.9250538117813338, 0.9250538117813338, 0.9250538117813338, 0.9250538117813338, 0.9256832327738342, 0.9256832327738342, 0.9256832327738342, 0.9256832327738342, 0.9300164690656892, 0.9300164690656892, 0.9300164690656892, 0.9300164690656892, 0.9300164690656892, 0.9300164690656892, 0.9300164690656892, 0.9300164690656892, 0.9300164690656892, 0.9300164690656892, 0.9304117879738554, 0.9304117879738554, 0.9304117879738554, 0.9337553152098834]}]}, \"metricName\": null, \"primaryMetricName\": \"AUC_weighted\", \"showLegend\": false}, \"run_metrics\": [{\"name\": \"experiment_status\", \"run_id\": \"AutoML_0d699f45-e7b2-4248-8bc5-507c4e5b9135\", \"categories\": [0, 1, 2, 3, 4, 5, 6, 7, 8, 9, 10, 11, 12, 13], \"series\": [{\"data\": [\"DatasetEvaluation\", \"FeaturesGeneration\", \"DatasetFeaturization\", \"DatasetFeaturizationCompleted\", \"DatasetCrossValidationSplit\", \"ModelSelection\", \"BestRunExplainModel\", \"ModelExplanationDataSetSetup\", \"PickSurrogateModel\", \"EngineeredFeatureExplanations\", \"EngineeredFeatureExplanations\", \"RawFeaturesExplanations\", \"RawFeaturesExplanations\", \"BestRunExplainModel\"]}]}, {\"name\": \"experiment_status_description\", \"run_id\": \"AutoML_0d699f45-e7b2-4248-8bc5-507c4e5b9135\", \"categories\": [0, 1, 2, 3, 4, 5, 6, 7, 8, 9, 10, 11, 12, 13], \"series\": [{\"data\": [\"Gathering dataset statistics.\", \"Generating features for the dataset.\", \"Beginning to fit featurizers and featurize the dataset.\", \"Completed fit featurizers and featurizing the dataset.\", \"Generating individually featurized CV splits.\", \"Beginning model selection.\", \"Best run model explanations started\", \"Model explanations data setup completed\", \"Choosing LightGBM as the surrogate model for explanations\", \"Computation of engineered features started\", \"Computation of engineered features completed\", \"Computation of raw features started\", \"Computation of raw features completed\", \"Best run model explanations completed\"]}]}, {\"name\": \"log_loss\", \"run_id\": \"AutoML_0d699f45-e7b2-4248-8bc5-507c4e5b9135\", \"categories\": [0], \"series\": [{\"data\": [0.37321533182395694]}]}, {\"name\": \"average_precision_score_micro\", \"run_id\": \"AutoML_0d699f45-e7b2-4248-8bc5-507c4e5b9135\", \"categories\": [0], \"series\": [{\"data\": [0.9270237373734064]}]}, {\"name\": \"norm_macro_recall\", \"run_id\": \"AutoML_0d699f45-e7b2-4248-8bc5-507c4e5b9135\", \"categories\": [0], \"series\": [{\"data\": [0.6336891165661188]}]}, {\"name\": \"AUC_micro\", \"run_id\": \"AutoML_0d699f45-e7b2-4248-8bc5-507c4e5b9135\", \"categories\": [0], \"series\": [{\"data\": [0.9231015986259743]}]}, {\"name\": \"f1_score_micro\", \"run_id\": \"AutoML_0d699f45-e7b2-4248-8bc5-507c4e5b9135\", \"categories\": [0], \"series\": [{\"data\": [0.8494252873563217]}]}, {\"name\": \"average_precision_score_macro\", \"run_id\": \"AutoML_0d699f45-e7b2-4248-8bc5-507c4e5b9135\", \"categories\": [0], \"series\": [{\"data\": [0.91293916795588]}]}, {\"name\": \"recall_score_micro\", \"run_id\": \"AutoML_0d699f45-e7b2-4248-8bc5-507c4e5b9135\", \"categories\": [0], \"series\": [{\"data\": [0.8494252873563217]}]}, {\"name\": \"precision_score_micro\", \"run_id\": \"AutoML_0d699f45-e7b2-4248-8bc5-507c4e5b9135\", \"categories\": [0], \"series\": [{\"data\": [0.8494252873563217]}]}, {\"name\": \"matthews_correlation\", \"run_id\": \"AutoML_0d699f45-e7b2-4248-8bc5-507c4e5b9135\", \"categories\": [0], \"series\": [{\"data\": [0.6521289628684258]}]}, {\"name\": \"f1_score_weighted\", \"run_id\": \"AutoML_0d699f45-e7b2-4248-8bc5-507c4e5b9135\", \"categories\": [0], \"series\": [{\"data\": [0.8451992164852964]}]}, {\"name\": \"recall_score_macro\", \"run_id\": \"AutoML_0d699f45-e7b2-4248-8bc5-507c4e5b9135\", \"categories\": [0], \"series\": [{\"data\": [0.8168445582830595]}]}, {\"name\": \"AUC_macro\", \"run_id\": \"AutoML_0d699f45-e7b2-4248-8bc5-507c4e5b9135\", \"categories\": [0], \"series\": [{\"data\": [0.920217046899198]}]}, {\"name\": \"AUC_weighted\", \"run_id\": \"AutoML_0d699f45-e7b2-4248-8bc5-507c4e5b9135\", \"categories\": [0], \"series\": [{\"data\": [0.920217046899198]}]}, {\"name\": \"average_precision_score_weighted\", \"run_id\": \"AutoML_0d699f45-e7b2-4248-8bc5-507c4e5b9135\", \"categories\": [0], \"series\": [{\"data\": [0.9337553152098834]}]}, {\"name\": \"weighted_accuracy\", \"run_id\": \"AutoML_0d699f45-e7b2-4248-8bc5-507c4e5b9135\", \"categories\": [0], \"series\": [{\"data\": [0.8707415518844306]}]}, {\"name\": \"f1_score_macro\", \"run_id\": \"AutoML_0d699f45-e7b2-4248-8bc5-507c4e5b9135\", \"categories\": [0], \"series\": [{\"data\": [0.8161771161609213]}]}, {\"name\": \"balanced_accuracy\", \"run_id\": \"AutoML_0d699f45-e7b2-4248-8bc5-507c4e5b9135\", \"categories\": [0], \"series\": [{\"data\": [0.8168445582830595]}]}, {\"name\": \"precision_score_weighted\", \"run_id\": \"AutoML_0d699f45-e7b2-4248-8bc5-507c4e5b9135\", \"categories\": [0], \"series\": [{\"data\": [0.8605507863147427]}]}, {\"name\": \"accuracy\", \"run_id\": \"AutoML_0d699f45-e7b2-4248-8bc5-507c4e5b9135\", \"categories\": [0], \"series\": [{\"data\": [0.8494252873563217]}]}, {\"name\": \"recall_score_weighted\", \"run_id\": \"AutoML_0d699f45-e7b2-4248-8bc5-507c4e5b9135\", \"categories\": [0], \"series\": [{\"data\": [0.8494252873563217]}]}, {\"name\": \"precision_score_macro\", \"run_id\": \"AutoML_0d699f45-e7b2-4248-8bc5-507c4e5b9135\", \"categories\": [0], \"series\": [{\"data\": [0.8370030231131995]}]}], \"run_logs\": \"\\nRun is completed.\", \"graph\": {}, \"widget_settings\": {\"childWidgetDisplay\": \"popup\", \"send_telemetry\": false, \"log_level\": \"INFO\", \"sdk_version\": \"1.49.0\"}, \"loading\": false}"
     },
     "metadata": {},
     "output_type": "display_data"
    },
    {
     "data": {
      "application/vnd.jupyter.widget-view+json": {
       "model_id": "ce065869cc894bf4ac2521997490d849",
       "version_major": 2,
       "version_minor": 0
      },
      "text/plain": [
       "_UserRunWidget(widget_settings={'childWidgetDisplay': 'popup', 'send_telemetry': False, 'log_level': 'INFO', '…"
      ]
     },
     "metadata": {},
     "output_type": "display_data"
    },
    {
     "data": {
      "application/aml.mini.widget.v1": "{\"status\": \"Completed\", \"workbench_run_details_uri\": \"https://ml.azure.com/runs/AutoML_0d699f45-e7b2-4248-8bc5-507c4e5b9135_5?wsid=/subscriptions/a0c759b9-5d15-4a68-b18d-708855e1e11c/resourcegroups/mesdedatosrg/workspaces/mesdedatos-aml&tid=9a3b52db-0430-4a9a-83a4-01135f3bc91e\", \"run_id\": \"AutoML_0d699f45-e7b2-4248-8bc5-507c4e5b9135_5\", \"run_properties\": {\"run_id\": \"AutoML_0d699f45-e7b2-4248-8bc5-507c4e5b9135_5\", \"created_utc\": \"2023-03-15T15:13:39.164627Z\", \"properties\": {\"runTemplate\": \"automl_child\", \"pipeline_id\": \"a18bd1af1629e8f96b25a32ac94e62b3bd9a9605\", \"pipeline_spec\": \"{\\\"objects\\\": [{\\\"class_name\\\": \\\"StandardScaler\\\", \\\"module\\\": \\\"sklearn.preprocessing\\\", \\\"param_args\\\": [], \\\"param_kwargs\\\": {\\\"with_mean\\\": true, \\\"with_std\\\": false}, \\\"prepared_kwargs\\\": {}, \\\"spec_class\\\": \\\"preproc\\\"}, {\\\"class_name\\\": \\\"KNeighborsClassifier\\\", \\\"module\\\": \\\"sklearn.neighbors\\\", \\\"param_args\\\": [], \\\"param_kwargs\\\": {\\\"metric\\\": \\\"cityblock\\\", \\\"n_neighbors\\\": 29, \\\"weights\\\": \\\"distance\\\"}, \\\"prepared_kwargs\\\": {}, \\\"spec_class\\\": \\\"sklearn\\\"}], \\\"pipeline_id\\\": \\\"a18bd1af1629e8f96b25a32ac94e62b3bd9a9605\\\", \\\"module\\\": \\\"sklearn.pipeline\\\", \\\"class_name\\\": \\\"Pipeline\\\", \\\"pipeline_name\\\": \\\"{ StandardScaler, KNeighborsClassifier }\\\"}\", \"training_percent\": \"100\", \"predicted_cost\": \"0.5\", \"iteration\": \"5\", \"_aml_system_scenario_identification\": \"Remote.Child\", \"run_preprocessor\": \"StandardScalerWrapper\", \"run_algorithm\": \"KNN\", \"model_output_path\": \"outputs/model.pkl\", \"conda_env_data_location\": \"aml://artifact/ExperimentRun/dcid.AutoML_0d699f45-e7b2-4248-8bc5-507c4e5b9135_5/outputs/conda_env_v_1_0_0.yml\", \"model_data_location\": \"aml://artifact/ExperimentRun/dcid.AutoML_0d699f45-e7b2-4248-8bc5-507c4e5b9135_5/outputs/model.pkl\", \"model_size_on_disk\": \"64067\", \"scoring_data_location\": \"aml://artifact/ExperimentRun/dcid.AutoML_0d699f45-e7b2-4248-8bc5-507c4e5b9135_5/outputs/scoring_file_v_1_0_0.py\", \"scoring_data_location_v2\": \"aml://artifact/ExperimentRun/dcid.AutoML_0d699f45-e7b2-4248-8bc5-507c4e5b9135_5/outputs/scoring_file_v_2_0_0.py\", \"scoring_data_location_pbi\": \"aml://artifact/ExperimentRun/dcid.AutoML_0d699f45-e7b2-4248-8bc5-507c4e5b9135_5/outputs/scoring_file_pbi_v_1_0_0.py\", \"model_exp_support\": \"True\", \"pipeline_graph_version\": \"1.0.0\", \"model_name\": \"AutoML0d699f45e5\", \"score\": \"0.5058572603005097\", \"score_table\": \"NaN\", \"run_properties\": \"copy=True, with_mean=True, with_std=False\", \"pipeline_script\": \"{\\\"objects\\\": [{\\\"class_name\\\": \\\"StandardScaler\\\", \\\"module\\\": \\\"sklearn.preprocessing\\\", \\\"param_args\\\": [], \\\"param_kwargs\\\": {\\\"with_mean\\\": true, \\\"with_std\\\": false}, \\\"prepared_kwargs\\\": {}, \\\"spec_class\\\": \\\"preproc\\\"}, {\\\"class_name\\\": \\\"KNeighborsClassifier\\\", \\\"module\\\": \\\"sklearn.neighbors\\\", \\\"param_args\\\": [], \\\"param_kwargs\\\": {\\\"metric\\\": \\\"cityblock\\\", \\\"n_neighbors\\\": 29, \\\"weights\\\": \\\"distance\\\"}, \\\"prepared_kwargs\\\": {}, \\\"spec_class\\\": \\\"sklearn\\\"}], \\\"pipeline_id\\\": \\\"a18bd1af1629e8f96b25a32ac94e62b3bd9a9605\\\", \\\"module\\\": \\\"sklearn.pipeline\\\", \\\"class_name\\\": \\\"Pipeline\\\", \\\"pipeline_name\\\": \\\"{ StandardScaler, KNeighborsClassifier }\\\"}\", \"training_type\": \"MeanCrossValidation\", \"fit_time\": \"0.0122647\", \"goal\": \"AUC_weighted_max\", \"primary_metric\": \"AUC_weighted\", \"errors\": \"{}\", \"onnx_model_resource\": \"{}\", \"dependencies_versions\": \"{\\\"azureml-dataprep-native\\\": \\\"38.0.0\\\", \\\"azureml-dataprep\\\": \\\"4.9.1\\\", \\\"azureml-dataprep-rslex\\\": \\\"2.16.1\\\", \\\"azureml-pipeline-core\\\": \\\"1.49.0\\\", \\\"azureml-core\\\": \\\"1.49.0\\\", \\\"azureml-training-tabular\\\": \\\"1.49.0\\\", \\\"azureml-train-automl-runtime\\\": \\\"1.49.0\\\", \\\"azureml-train-core\\\": \\\"1.49.0\\\", \\\"azureml-interpret\\\": \\\"1.49.0\\\", \\\"azureml-telemetry\\\": \\\"1.49.0\\\", \\\"azureml-dataset-runtime\\\": \\\"1.49.0\\\", \\\"azureml-train-restclients-hyperdrive\\\": \\\"1.49.0\\\", \\\"azureml-automl-core\\\": \\\"1.49.0\\\", \\\"azureml-automl-runtime\\\": \\\"1.49.0\\\", \\\"azureml-mlflow\\\": \\\"1.49.0\\\", \\\"azureml-defaults\\\": \\\"1.49.0\\\", \\\"azureml-train-automl-client\\\": \\\"1.49.0\\\", \\\"azureml-responsibleai\\\": \\\"1.49.0\\\", \\\"azureml-inference-server-http\\\": \\\"0.8.0\\\"}\", \"num_cores\": \"2\", \"num_logical_cores\": \"2\", \"peak_memory_usage\": \"887836\", \"vm_configuration\": \"x86_64\", \"core_hours\": \"0.0024499972222222204\", \"feature_skus\": \"automatedml_sdk_guardrails\"}, \"tags\": {\"_aml_system_linked_batch_run_id\": \"AutoML_0d699f45-e7b2-4248-8bc5-507c4e5b9135_worker_0\", \"_aml_system_azureml.automlComponent\": \"AutoML\", \"_aml_system_codegen\": \"completed\", \"_aml_system_automl_is_child_run_end_telemetry_event_logged\": \"True\"}, \"script_name\": null, \"arguments\": null, \"end_time_utc\": \"2023-03-15T15:15:30.045666Z\", \"status\": \"Completed\", \"log_files\": {}, \"log_groups\": [], \"run_duration\": \"0:01:50\", \"run_number\": \"1678893219\", \"run_queued_details\": {\"status\": \"Completed\", \"details\": null}}, \"child_runs\": [], \"children_metrics\": {}, \"run_metrics\": [{\"name\": \"AUC_macro\", \"run_id\": \"AutoML_0d699f45-e7b2-4248-8bc5-507c4e5b9135_5\", \"categories\": [0], \"series\": [{\"data\": [0.5058572603005097]}]}, {\"name\": \"recall_score_macro\", \"run_id\": \"AutoML_0d699f45-e7b2-4248-8bc5-507c4e5b9135_5\", \"categories\": [0], \"series\": [{\"data\": [0.5462382764387913]}]}, {\"name\": \"f1_score_micro\", \"run_id\": \"AutoML_0d699f45-e7b2-4248-8bc5-507c4e5b9135_5\", \"categories\": [0], \"series\": [{\"data\": [0.6424137931034484]}]}, {\"name\": \"recall_score_weighted\", \"run_id\": \"AutoML_0d699f45-e7b2-4248-8bc5-507c4e5b9135_5\", \"categories\": [0], \"series\": [{\"data\": [0.6424137931034483]}]}, {\"name\": \"accuracy\", \"run_id\": \"AutoML_0d699f45-e7b2-4248-8bc5-507c4e5b9135_5\", \"categories\": [0], \"series\": [{\"data\": [0.6424137931034483]}]}, {\"name\": \"weighted_accuracy\", \"run_id\": \"AutoML_0d699f45-e7b2-4248-8bc5-507c4e5b9135_5\", \"categories\": [0], \"series\": [{\"data\": [0.7077252561233643]}]}, {\"name\": \"AUC_weighted\", \"run_id\": \"AutoML_0d699f45-e7b2-4248-8bc5-507c4e5b9135_5\", \"categories\": [0], \"series\": [{\"data\": [0.5058572603005097]}]}, {\"name\": \"norm_macro_recall\", \"run_id\": \"AutoML_0d699f45-e7b2-4248-8bc5-507c4e5b9135_5\", \"categories\": [0], \"series\": [{\"data\": [0.1312714568040655]}]}, {\"name\": \"balanced_accuracy\", \"run_id\": \"AutoML_0d699f45-e7b2-4248-8bc5-507c4e5b9135_5\", \"categories\": [0], \"series\": [{\"data\": [0.5462382764387913]}]}, {\"name\": \"matthews_correlation\", \"run_id\": \"AutoML_0d699f45-e7b2-4248-8bc5-507c4e5b9135_5\", \"categories\": [0], \"series\": [{\"data\": [0.0819796276020419]}]}, {\"name\": \"average_precision_score_macro\", \"run_id\": \"AutoML_0d699f45-e7b2-4248-8bc5-507c4e5b9135_5\", \"categories\": [0], \"series\": [{\"data\": [0.5741193378226761]}]}, {\"name\": \"recall_score_micro\", \"run_id\": \"AutoML_0d699f45-e7b2-4248-8bc5-507c4e5b9135_5\", \"categories\": [0], \"series\": [{\"data\": [0.6424137931034483]}]}, {\"name\": \"average_precision_score_micro\", \"run_id\": \"AutoML_0d699f45-e7b2-4248-8bc5-507c4e5b9135_5\", \"categories\": [0], \"series\": [{\"data\": [0.6528425787987014]}]}, {\"name\": \"f1_score_macro\", \"run_id\": \"AutoML_0d699f45-e7b2-4248-8bc5-507c4e5b9135_5\", \"categories\": [0], \"series\": [{\"data\": [0.5099311378159193]}]}, {\"name\": \"precision_score_weighted\", \"run_id\": \"AutoML_0d699f45-e7b2-4248-8bc5-507c4e5b9135_5\", \"categories\": [0], \"series\": [{\"data\": [0.6029834921330174]}]}, {\"name\": \"f1_score_weighted\", \"run_id\": \"AutoML_0d699f45-e7b2-4248-8bc5-507c4e5b9135_5\", \"categories\": [0], \"series\": [{\"data\": [0.5969597383330986]}]}, {\"name\": \"log_loss\", \"run_id\": \"AutoML_0d699f45-e7b2-4248-8bc5-507c4e5b9135_5\", \"categories\": [0], \"series\": [{\"data\": [0.7060993088137472]}]}, {\"name\": \"AUC_micro\", \"run_id\": \"AutoML_0d699f45-e7b2-4248-8bc5-507c4e5b9135_5\", \"categories\": [0], \"series\": [{\"data\": [0.6536476416963932]}]}, {\"name\": \"precision_score_micro\", \"run_id\": \"AutoML_0d699f45-e7b2-4248-8bc5-507c4e5b9135_5\", \"categories\": [0], \"series\": [{\"data\": [0.6424137931034483]}]}, {\"name\": \"precision_score_macro\", \"run_id\": \"AutoML_0d699f45-e7b2-4248-8bc5-507c4e5b9135_5\", \"categories\": [0], \"series\": [{\"data\": [0.5285095656467471]}]}, {\"name\": \"average_precision_score_weighted\", \"run_id\": \"AutoML_0d699f45-e7b2-4248-8bc5-507c4e5b9135_5\", \"categories\": [0], \"series\": [{\"data\": [0.6307313459057176]}]}, {\"name\": \"accuracy_table\", \"run_id\": \"AutoML_0d699f45-e7b2-4248-8bc5-507c4e5b9135_5\", \"categories\": [0], \"series\": [{\"data\": [{\"schema_type\": \"accuracy_table\", \"schema_version\": \"1.0.1\", \"data\": {\"probability_tables\": [[[203, 96, 0, 0], [203, 96, 0, 0], [203, 96, 0, 0], [203, 96, 0, 0], [203, 96, 0, 0], [203, 96, 0, 0], [203, 96, 0, 0], [203, 96, 0, 0], [203, 96, 0, 0], [203, 96, 0, 0], [203, 96, 0, 0], [203, 96, 0, 0], [203, 96, 0, 0], [203, 96, 0, 0], [203, 95, 1, 0], [203, 92, 4, 0], [203, 91, 5, 0], [203, 91, 5, 0], [202, 91, 5, 1], [202, 91, 5, 1], [202, 91, 5, 1], [201, 90, 6, 2], [201, 90, 6, 2], [201, 89, 7, 2], [200, 88, 8, 3], [199, 88, 8, 4], [198, 88, 8, 5], [198, 88, 8, 5], [197, 87, 9, 6], [197, 87, 9, 6], [196, 86, 10, 7], [196, 86, 10, 7], [195, 85, 11, 8], [194, 85, 11, 9], [194, 85, 11, 9], [193, 83, 13, 10], [193, 83, 13, 10], [193, 83, 13, 10], [193, 83, 13, 10], [192, 83, 13, 11], [191, 83, 13, 12], [190, 83, 13, 13], [189, 83, 13, 14], [189, 82, 14, 14], [186, 81, 15, 17], [185, 81, 15, 18], [182, 81, 15, 21], [177, 79, 17, 26], [175, 79, 17, 28], [174, 77, 19, 29], [172, 76, 20, 31], [172, 76, 20, 31], [171, 76, 20, 32], [167, 76, 20, 36], [165, 76, 20, 38], [161, 76, 20, 42], [159, 74, 22, 44], [156, 73, 23, 47], [155, 70, 26, 48], [150, 69, 27, 53], [146, 67, 29, 57], [144, 65, 31, 59], [137, 62, 34, 66], [131, 61, 35, 72], [125, 60, 36, 78], [122, 60, 36, 81], [117, 57, 39, 86], [113, 56, 40, 90], [103, 53, 43, 100], [99, 51, 45, 104], [91, 50, 46, 112], [84, 49, 47, 119], [80, 46, 50, 123], [74, 46, 50, 129], [65, 41, 55, 138], [64, 38, 58, 139], [61, 33, 63, 142], [58, 31, 65, 145], [57, 28, 68, 146], [53, 28, 68, 150], [48, 27, 69, 155], [44, 26, 70, 159], [41, 25, 71, 162], [35, 22, 74, 168], [32, 19, 77, 171], [30, 18, 78, 173], [26, 16, 80, 177], [25, 11, 85, 178], [17, 10, 86, 186], [13, 9, 87, 190], [11, 6, 90, 192], [10, 6, 90, 193], [4, 4, 92, 199], [2, 2, 94, 201], [2, 0, 96, 201], [1, 0, 96, 202], [0, 0, 96, 203], [0, 0, 96, 203], [0, 0, 96, 203], [0, 0, 96, 203]], [[96, 203, 0, 0], [96, 203, 0, 0], [96, 203, 0, 0], [96, 203, 0, 0], [96, 202, 1, 0], [96, 201, 2, 0], [94, 201, 2, 2], [92, 199, 4, 4], [90, 193, 10, 6], [90, 192, 11, 6], [87, 190, 13, 9], [86, 186, 17, 10], [85, 178, 25, 11], [80, 177, 26, 16], [78, 173, 30, 18], [77, 171, 32, 19], [74, 168, 35, 22], [71, 162, 41, 25], [70, 159, 44, 26], [69, 155, 48, 27], [68, 150, 53, 28], [68, 146, 57, 28], [65, 145, 58, 31], [63, 142, 61, 33], [58, 139, 64, 38], [55, 138, 65, 41], [50, 129, 74, 46], [50, 123, 80, 46], [47, 119, 84, 49], [46, 112, 91, 50], [45, 104, 99, 51], [43, 100, 103, 53], [40, 90, 113, 56], [39, 86, 117, 57], [36, 81, 122, 60], [36, 78, 125, 60], [35, 72, 131, 61], [34, 66, 137, 62], [31, 59, 144, 65], [29, 57, 146, 67], [27, 53, 150, 69], [26, 48, 155, 70], [23, 47, 156, 73], [22, 44, 159, 74], [20, 42, 161, 76], [20, 38, 165, 76], [20, 36, 167, 76], [20, 32, 171, 76], [20, 31, 172, 76], [20, 31, 172, 76], [19, 29, 174, 77], [17, 28, 175, 79], [17, 26, 177, 79], [15, 21, 182, 81], [15, 18, 185, 81], [15, 17, 186, 81], [14, 14, 189, 82], [13, 14, 189, 83], [13, 13, 190, 83], [13, 12, 191, 83], [13, 11, 192, 83], [13, 10, 193, 83], [13, 10, 193, 83], [13, 10, 193, 83], [13, 10, 193, 83], [11, 9, 194, 85], [11, 9, 194, 85], [11, 8, 195, 85], [10, 7, 196, 86], [10, 7, 196, 86], [9, 6, 197, 87], [9, 6, 197, 87], [8, 5, 198, 88], [8, 5, 198, 88], [8, 4, 199, 88], [8, 3, 200, 88], [7, 2, 201, 89], [6, 2, 201, 90], [6, 2, 201, 90], [5, 1, 202, 91], [5, 1, 202, 91], [5, 1, 202, 91], [5, 0, 203, 91], [5, 0, 203, 91], [4, 0, 203, 92], [1, 0, 203, 95], [0, 0, 203, 96], [0, 0, 203, 96], [0, 0, 203, 96], [0, 0, 203, 96], [0, 0, 203, 96], [0, 0, 203, 96], [0, 0, 203, 96], [0, 0, 203, 96], [0, 0, 203, 96], [0, 0, 203, 96], [0, 0, 203, 96], [0, 0, 203, 96], [0, 0, 203, 96], [0, 0, 203, 96]]], \"percentile_tables\": [[[203, 96, 0, 0], [203, 96, 0, 0], [203, 96, 0, 0], [203, 96, 0, 0], [203, 95, 1, 0], [203, 95, 1, 0], [203, 95, 1, 0], [203, 94, 2, 0], [203, 94, 2, 0], [202, 94, 2, 1], [202, 94, 2, 1], [202, 91, 5, 1], [202, 91, 5, 1], [202, 91, 5, 1], [201, 89, 7, 2], [201, 89, 7, 2], [200, 89, 7, 3], [200, 89, 7, 3], [200, 89, 7, 3], [199, 88, 8, 4], [199, 88, 8, 4], [198, 88, 8, 5], [198, 88, 8, 5], [197, 88, 8, 6], [196, 88, 8, 7], [196, 88, 8, 7], [195, 88, 8, 8], [195, 88, 8, 8], [195, 88, 8, 8], [195, 87, 9, 8], [195, 87, 9, 8], [195, 86, 10, 8], [195, 85, 11, 8], [195, 85, 11, 8], [192, 84, 12, 11], [192, 83, 13, 11], [192, 83, 13, 11], [192, 83, 13, 11], [192, 83, 13, 11], [192, 83, 13, 11], [192, 82, 14, 11], [192, 82, 14, 11], [190, 82, 14, 13], [190, 82, 14, 13], [183, 81, 15, 20], [183, 81, 15, 20], [179, 81, 15, 24], [177, 78, 18, 26], [177, 78, 18, 26], [173, 77, 19, 30], [173, 77, 19, 30], [169, 76, 20, 34], [169, 76, 20, 34], [165, 75, 21, 38], [160, 74, 22, 43], [160, 74, 22, 43], [158, 74, 22, 45], [158, 74, 22, 45], [153, 71, 25, 50], [148, 67, 29, 55], [148, 67, 29, 55], [141, 64, 32, 62], [141, 64, 32, 62], [135, 60, 36, 68], [127, 59, 37, 76], [127, 59, 37, 76], [122, 58, 38, 81], [122, 58, 38, 81], [113, 58, 38, 90], [107, 56, 40, 96], [106, 56, 40, 97], [101, 53, 43, 102], [100, 53, 43, 103], [93, 50, 46, 110], [87, 48, 48, 116], [86, 48, 48, 117], [79, 47, 49, 124], [79, 47, 49, 124], [75, 42, 54, 128], [67, 41, 55, 136], [66, 41, 55, 137], [62, 38, 58, 141], [61, 38, 58, 142], [58, 32, 64, 145], [53, 28, 68, 150], [53, 28, 68, 150], [49, 25, 71, 154], [48, 25, 71, 155], [42, 22, 74, 161], [36, 21, 75, 167], [36, 21, 75, 167], [31, 17, 79, 172], [31, 17, 79, 172], [25, 14, 82, 178], [18, 11, 85, 185], [18, 11, 85, 185], [13, 7, 89, 190], [13, 7, 89, 190], [7, 3, 93, 196], [7, 3, 93, 196]], [[96, 203, 0, 0], [93, 196, 7, 3], [89, 190, 13, 7], [89, 190, 13, 7], [85, 185, 18, 11], [85, 185, 18, 11], [82, 178, 25, 14], [79, 172, 31, 17], [79, 172, 31, 17], [75, 167, 36, 21], [75, 167, 36, 21], [74, 161, 42, 22], [71, 155, 48, 25], [71, 154, 49, 25], [68, 150, 53, 28], [68, 150, 53, 28], [64, 145, 58, 32], [58, 142, 61, 38], [58, 141, 62, 38], [55, 137, 66, 41], [55, 136, 67, 41], [54, 128, 75, 42], [49, 124, 79, 47], [49, 124, 79, 47], [48, 117, 86, 48], [48, 116, 87, 48], [46, 110, 93, 50], [43, 103, 100, 53], [43, 102, 101, 53], [40, 97, 106, 56], [40, 96, 107, 56], [38, 90, 113, 58], [38, 81, 122, 58], [38, 81, 122, 58], [37, 76, 127, 59], [37, 76, 127, 59], [36, 68, 135, 60], [32, 62, 141, 64], [32, 62, 141, 64], [29, 55, 148, 67], [29, 55, 148, 67], [25, 50, 153, 71], [22, 45, 158, 74], [22, 45, 158, 74], [22, 43, 160, 74], [22, 43, 160, 74], [21, 38, 165, 75], [20, 34, 169, 76], [20, 34, 169, 76], [19, 30, 173, 77], [19, 30, 173, 77], [18, 26, 177, 78], [18, 26, 177, 78], [15, 24, 179, 81], [15, 20, 183, 81], [15, 20, 183, 81], [14, 13, 190, 82], [14, 13, 190, 82], [14, 11, 192, 82], [14, 11, 192, 82], [13, 11, 192, 83], [13, 11, 192, 83], [13, 11, 192, 83], [13, 11, 192, 83], [13, 11, 192, 83], [12, 11, 192, 84], [11, 9, 194, 85], [11, 8, 195, 85], [10, 8, 195, 86], [9, 8, 195, 87], [9, 8, 195, 87], [8, 8, 195, 88], [8, 8, 195, 88], [8, 8, 195, 88], [8, 7, 196, 88], [8, 7, 196, 88], [8, 6, 197, 88], [8, 5, 198, 88], [8, 5, 198, 88], [8, 4, 199, 88], [8, 4, 199, 88], [7, 3, 200, 89], [7, 3, 200, 89], [7, 3, 200, 89], [7, 2, 201, 89], [7, 2, 201, 89], [5, 1, 202, 91], [5, 1, 202, 91], [5, 1, 202, 91], [2, 1, 202, 94], [2, 1, 202, 94], [2, 0, 203, 94], [2, 0, 203, 94], [1, 0, 203, 95], [1, 0, 203, 95], [1, 0, 203, 95], [0, 0, 203, 96], [0, 0, 203, 96], [0, 0, 203, 96], [0, 0, 203, 96]]], \"probability_thresholds\": [0.0, 0.010101010101010102, 0.020202020202020204, 0.030303030303030304, 0.04040404040404041, 0.05050505050505051, 0.06060606060606061, 0.07070707070707072, 0.08080808080808081, 0.09090909090909091, 0.10101010101010102, 0.11111111111111112, 0.12121212121212122, 0.13131313131313133, 0.14141414141414144, 0.15151515151515152, 0.16161616161616163, 0.17171717171717174, 0.18181818181818182, 0.19191919191919193, 0.20202020202020204, 0.21212121212121213, 0.22222222222222224, 0.23232323232323235, 0.24242424242424243, 0.25252525252525254, 0.26262626262626265, 0.27272727272727276, 0.2828282828282829, 0.29292929292929293, 0.30303030303030304, 0.31313131313131315, 0.32323232323232326, 0.33333333333333337, 0.3434343434343435, 0.3535353535353536, 0.36363636363636365, 0.37373737373737376, 0.38383838383838387, 0.393939393939394, 0.4040404040404041, 0.4141414141414142, 0.42424242424242425, 0.43434343434343436, 0.4444444444444445, 0.4545454545454546, 0.4646464646464647, 0.4747474747474748, 0.48484848484848486, 0.494949494949495, 0.5050505050505051, 0.5151515151515152, 0.5252525252525253, 0.5353535353535354, 0.5454545454545455, 0.5555555555555556, 0.5656565656565657, 0.5757575757575758, 0.5858585858585859, 0.595959595959596, 0.6060606060606061, 0.6161616161616162, 0.6262626262626263, 0.6363636363636365, 0.6464646464646465, 0.6565656565656566, 0.6666666666666667, 0.6767676767676768, 0.686868686868687, 0.696969696969697, 0.7070707070707072, 0.7171717171717172, 0.7272727272727273, 0.7373737373737375, 0.7474747474747475, 0.7575757575757577, 0.7676767676767677, 0.7777777777777778, 0.787878787878788, 0.797979797979798, 0.8080808080808082, 0.8181818181818182, 0.8282828282828284, 0.8383838383838385, 0.8484848484848485, 0.8585858585858587, 0.8686868686868687, 0.8787878787878789, 0.888888888888889, 0.8989898989898991, 0.9090909090909092, 0.9191919191919192, 0.9292929292929294, 0.9393939393939394, 0.9494949494949496, 0.9595959595959597, 0.9696969696969697, 0.9797979797979799, 0.98989898989899, 1.0], \"percentile_thresholds\": [0.07079179956056607, 0.10277149512555163, 0.12692685924905375, 0.13460994665364343, 0.14089380574482094, 0.14640440708384958, 0.15000662479476873, 0.15511399656279884, 0.164105416873125, 0.17322576384023528, 0.18242848061584654, 0.18986212272919634, 0.19552877065656965, 0.19638963823302766, 0.21188287872987777, 0.2381352169623102, 0.24173817875555875, 0.24272807347215425, 0.24354463054627448, 0.2448062128662189, 0.24644328523732756, 0.25213039626203937, 0.25730598555452544, 0.25747726104403046, 0.26215284719486825, 0.2711826003183278, 0.2737801733582169, 0.2749064999197239, 0.27515195611784926, 0.27622044104915927, 0.2782001363636381, 0.2878446507465917, 0.29963166140569, 0.31279682951211035, 0.33219952976199435, 0.35951909773242785, 0.3695491749581046, 0.37403224409159774, 0.3767003147318902, 0.3837094569013962, 0.3970493283843385, 0.40918335070178663, 0.4209410242143084, 0.43404903051768257, 0.44414153177762866, 0.4491625018281734, 0.46835073850205544, 0.49339443554766954, 0.49730784989122556, 0.4999372353836464, 0.5000627646163536, 0.5026921501087745, 0.5066055644523306, 0.5316492614979447, 0.5508374981718266, 0.5558584682223713, 0.5659509694823175, 0.5790589757856915, 0.5908166492982135, 0.6029506716156618, 0.6162905430986041, 0.62329968526811, 0.6259677559084021, 0.6304508250418955, 0.6404809022675726, 0.6678004702380058, 0.6872031704878897, 0.7003683385943102, 0.7121553492534084, 0.7217998636363618, 0.7237795589508407, 0.7248480438821507, 0.7250935000802761, 0.7262198266417831, 0.7288173996816724, 0.7378471528051319, 0.7425227389559697, 0.7426940144454747, 0.7478696037379607, 0.7535567147626724, 0.755193787133781, 0.7564553694537255, 0.7572719265278458, 0.7582618212444412, 0.7618647830376895, 0.7881171212701225, 0.8036103617669724, 0.8044712293434303, 0.8101378772708037, 0.8175715193841535, 0.8267742361597648, 0.8358945831268749, 0.8448860034372013, 0.8499933752052313, 0.8535955929161505, 0.8591061942551792, 0.8653900533463565, 0.8730731407509463, 0.8972285048744486, 0.9292082004394339], \"class_labels\": [\"False\", \"True\"]}}]}]}, {\"name\": \"confusion_matrix\", \"run_id\": \"AutoML_0d699f45-e7b2-4248-8bc5-507c4e5b9135_5\", \"categories\": [0], \"series\": [{\"data\": [{\"schema_type\": \"confusion_matrix\", \"schema_version\": \"1.0.0\", \"data\": {\"class_labels\": [\"False\", \"True\"], \"matrix\": [[173, 30], [77, 19]]}}]}]}], \"run_logs\": \"\\nRun is completed.\", \"graph\": {\"module_nodes\": {\"a188897f\": {\"node_id\": \"a188897f\", \"name\": \"StandardScalerWrapper\", \"status\": \"model\"}, \"77d80318\": {\"node_id\": \"77d80318\", \"name\": \"KNeighborsClassifier\", \"status\": \"model\"}, \"c5300915\": {\"node_id\": \"c5300915\", \"name\": \"Numeric\", \"status\": \"dataType\"}, \"4edfe89e\": {\"node_id\": \"4edfe89e\", \"name\": \"MeanImputer\", \"status\": \"operation\"}, \"c85c3f80\": {\"node_id\": \"c85c3f80\", \"name\": \"Categorical\", \"status\": \"dataType\"}, \"d7979a9f\": {\"node_id\": \"d7979a9f\", \"name\": \"ModeCatImputer-StringCast-LabelEncoder\", \"status\": \"operation\"}}, \"edges\": [{\"source_node_id\": \"a188897f\", \"source_node_name\": \"\", \"source_name\": \"\", \"target_name\": \"\", \"dst_node_id\": \"77d80318\", \"dst_node_name\": \"\"}, {\"source_node_id\": \"088101bf\", \"source_node_name\": \"data_source\", \"source_name\": \"\", \"target_name\": \"7 col\", \"dst_node_id\": \"c5300915\", \"dst_node_name\": \"Numeric\"}, {\"source_node_id\": \"c5300915\", \"source_node_name\": \"\", \"source_name\": \"\", \"target_name\": \"\", \"dst_node_id\": \"4edfe89e\", \"dst_node_name\": \"\"}, {\"source_node_id\": \"4edfe89e\", \"source_node_name\": \"\", \"source_name\": \"\", \"target_name\": \"1 col\", \"dst_node_id\": \"a188897f\", \"dst_node_name\": \"\"}, {\"source_node_id\": \"088101bf\", \"source_node_name\": \"data_source\", \"source_name\": \"\", \"target_name\": \"5 col\", \"dst_node_id\": \"c85c3f80\", \"dst_node_name\": \"Categorical\"}, {\"source_node_id\": \"c85c3f80\", \"source_node_name\": \"\", \"source_name\": \"\", \"target_name\": \"\", \"dst_node_id\": \"d7979a9f\", \"dst_node_name\": \"\"}, {\"source_node_id\": \"d7979a9f\", \"source_node_name\": \"\", \"source_name\": \"\", \"target_name\": \"1 col\", \"dst_node_id\": \"a188897f\", \"dst_node_name\": \"\"}], \"child_runs\": [], \"datasource_nodes\": {\"088101bf\": {\"node_id\": \"088101bf\", \"name\": \"data_source - 12 col\"}}}, \"widget_settings\": {\"childWidgetDisplay\": \"popup\", \"send_telemetry\": false, \"log_level\": \"INFO\", \"sdk_version\": \"1.49.0\", \"display\": \"popup\"}, \"loading\": false}"
     },
     "metadata": {},
     "output_type": "display_data"
    }
   ],
   "source": [
    "RunDetails(remote_run).show()"
   ]
  },
  {
   "cell_type": "markdown",
   "id": "c4465322",
   "metadata": {},
   "source": [
    "# Save the best model"
   ]
  },
  {
   "cell_type": "code",
   "execution_count": 9,
   "id": "a00fe01a",
   "metadata": {},
   "outputs": [],
   "source": [
    "best_run, fitted_model = remote_run.get_output()"
   ]
  },
  {
   "cell_type": "code",
   "execution_count": 10,
   "id": "189df048",
   "metadata": {},
   "outputs": [
    {
     "data": {
      "text/plain": [
       "{'runTemplate': 'automl_child',\n",
       " 'pipeline_id': '__AutoML_Ensemble__',\n",
       " 'pipeline_spec': '{\"pipeline_id\":\"__AutoML_Ensemble__\",\"objects\":[{\"module\":\"azureml.train.automl.ensemble\",\"class_name\":\"Ensemble\",\"spec_class\":\"sklearn\",\"param_args\":[],\"param_kwargs\":{\"automl_settings\":\"{\\'task_type\\':\\'classification\\',\\'primary_metric\\':\\'AUC_weighted\\',\\'verbosity\\':20,\\'ensemble_iterations\\':15,\\'is_timeseries\\':False,\\'name\\':\\'aml-experiment\\',\\'compute_target\\':\\'mesdedatos-vm\\',\\'subscription_id\\':\\'a0c759b9-5d15-4a68-b18d-708855e1e11c\\',\\'region\\':\\'westeurope\\',\\'spark_service\\':None}\",\"ensemble_run_id\":\"AutoML_0d699f45-e7b2-4248-8bc5-507c4e5b9135_44\",\"experiment_name\":\"aml-experiment\",\"workspace_name\":\"mesdedatos-aml\",\"subscription_id\":\"a0c759b9-5d15-4a68-b18d-708855e1e11c\",\"resource_group_name\":\"mesdedatosrg\"}}]}',\n",
       " 'training_percent': '100',\n",
       " 'predicted_cost': None,\n",
       " 'iteration': '44',\n",
       " '_aml_system_scenario_identification': 'Remote.Child',\n",
       " '_azureml.ComputeTargetType': 'amlctrain',\n",
       " 'ContentSnapshotId': '20c93724-4fbf-4db3-bea2-a71c8b2878fd',\n",
       " 'ProcessInfoFile': 'azureml-logs/process_info.json',\n",
       " 'ProcessStatusFile': 'azureml-logs/process_status.json',\n",
       " 'run_preprocessor': '',\n",
       " 'run_algorithm': 'VotingEnsemble',\n",
       " 'ensembled_iterations': '[39, 34, 29, 21, 25, 24, 18]',\n",
       " 'ensembled_algorithms': \"['GradientBoosting', 'XGBoostClassifier', 'RandomForest', 'RandomForest', 'RandomForest', 'XGBoostClassifier', 'LightGBM']\",\n",
       " 'ensembled_run_ids': \"['AutoML_0d699f45-e7b2-4248-8bc5-507c4e5b9135_39', 'AutoML_0d699f45-e7b2-4248-8bc5-507c4e5b9135_34', 'AutoML_0d699f45-e7b2-4248-8bc5-507c4e5b9135_29', 'AutoML_0d699f45-e7b2-4248-8bc5-507c4e5b9135_21', 'AutoML_0d699f45-e7b2-4248-8bc5-507c4e5b9135_25', 'AutoML_0d699f45-e7b2-4248-8bc5-507c4e5b9135_24', 'AutoML_0d699f45-e7b2-4248-8bc5-507c4e5b9135_18']\",\n",
       " 'ensemble_weights': '[0.07692307692307693, 0.3076923076923077, 0.23076923076923078, 0.15384615384615385, 0.07692307692307693, 0.07692307692307693, 0.07692307692307693]',\n",
       " 'best_individual_pipeline_score': '0.9148426270716318',\n",
       " 'best_individual_iteration': '39',\n",
       " 'model_output_path': 'outputs/model.pkl',\n",
       " 'conda_env_data_location': 'aml://artifact/ExperimentRun/dcid.AutoML_0d699f45-e7b2-4248-8bc5-507c4e5b9135_44/outputs/conda_env_v_1_0_0.yml',\n",
       " 'model_data_location': 'aml://artifact/ExperimentRun/dcid.AutoML_0d699f45-e7b2-4248-8bc5-507c4e5b9135_44/outputs/model.pkl',\n",
       " 'model_size_on_disk': '1154797',\n",
       " 'scoring_data_location': 'aml://artifact/ExperimentRun/dcid.AutoML_0d699f45-e7b2-4248-8bc5-507c4e5b9135_44/outputs/scoring_file_v_1_0_0.py',\n",
       " 'scoring_data_location_v2': 'aml://artifact/ExperimentRun/dcid.AutoML_0d699f45-e7b2-4248-8bc5-507c4e5b9135_44/outputs/scoring_file_v_2_0_0.py',\n",
       " 'scoring_data_location_pbi': 'aml://artifact/ExperimentRun/dcid.AutoML_0d699f45-e7b2-4248-8bc5-507c4e5b9135_44/outputs/scoring_file_pbi_v_1_0_0.py',\n",
       " 'model_exp_support': 'True',\n",
       " 'pipeline_graph_version': '1.0.0',\n",
       " 'model_name': 'AutoML0d699f45e44',\n",
       " 'score': '0.920217046899198',\n",
       " 'score_table': 'NaN',\n",
       " 'run_properties': 'classification_labels=numpy.array([0, 1]',\n",
       " 'pipeline_script': '{\"pipeline_id\":\"__AutoML_Ensemble__\",\"objects\":[{\"module\":\"azureml.train.automl.ensemble\",\"class_name\":\"Ensemble\",\"spec_class\":\"sklearn\",\"param_args\":[],\"param_kwargs\":{\"automl_settings\":\"{\\'task_type\\':\\'classification\\',\\'primary_metric\\':\\'AUC_weighted\\',\\'verbosity\\':20,\\'ensemble_iterations\\':15,\\'is_timeseries\\':False,\\'name\\':\\'aml-experiment\\',\\'compute_target\\':\\'mesdedatos-vm\\',\\'subscription_id\\':\\'a0c759b9-5d15-4a68-b18d-708855e1e11c\\',\\'region\\':\\'westeurope\\',\\'spark_service\\':None}\",\"ensemble_run_id\":\"AutoML_0d699f45-e7b2-4248-8bc5-507c4e5b9135_44\",\"experiment_name\":\"aml-experiment\",\"workspace_name\":\"mesdedatos-aml\",\"subscription_id\":\"a0c759b9-5d15-4a68-b18d-708855e1e11c\",\"resource_group_name\":\"mesdedatosrg\"}}]}',\n",
       " 'training_type': 'MeanCrossValidation',\n",
       " 'fit_time': '47',\n",
       " 'goal': 'AUC_weighted_max',\n",
       " 'primary_metric': 'AUC_weighted',\n",
       " 'errors': '{}',\n",
       " 'onnx_model_resource': '{}',\n",
       " 'dependencies_versions': '{\"azureml-dataprep-native\": \"38.0.0\", \"azureml-dataprep\": \"4.9.1\", \"azureml-dataprep-rslex\": \"2.16.1\", \"azureml-pipeline-core\": \"1.49.0\", \"azureml-core\": \"1.49.0\", \"azureml-training-tabular\": \"1.49.0\", \"azureml-train-automl-runtime\": \"1.49.0\", \"azureml-train-core\": \"1.49.0\", \"azureml-interpret\": \"1.49.0\", \"azureml-telemetry\": \"1.49.0\", \"azureml-dataset-runtime\": \"1.49.0\", \"azureml-train-restclients-hyperdrive\": \"1.49.0\", \"azureml-automl-core\": \"1.49.0\", \"azureml-automl-runtime\": \"1.49.0\", \"azureml-mlflow\": \"1.49.0\", \"azureml-defaults\": \"1.49.0\", \"azureml-train-automl-client\": \"1.49.0\", \"azureml-responsibleai\": \"1.49.0\", \"azureml-inference-server-http\": \"0.8.0\"}',\n",
       " 'num_cores': '2',\n",
       " 'num_logical_cores': '2',\n",
       " 'peak_memory_usage': '1292196',\n",
       " 'vm_configuration': 'x86_64',\n",
       " 'core_hours': '0.014756923333333331',\n",
       " 'feature_skus': 'automatedml_sdk_guardrails'}"
      ]
     },
     "execution_count": 10,
     "metadata": {},
     "output_type": "execute_result"
    }
   ],
   "source": [
    "best_run.get_properties()"
   ]
  },
  {
   "cell_type": "code",
   "execution_count": 18,
   "id": "b856d9b6",
   "metadata": {},
   "outputs": [],
   "source": [
    "model_name = best_run.properties['model_name']\n",
    "script_file_name = 'inference/score.py'\n",
    "best_run.download_file('outputs/scoring_file_v_1_0_0.py', 'inference/score.py')\n",
    "best_run.download_file('outputs/model.pkl', 'outputs/model.pkl')\n",
    "description = \"aml heart failure project sdk\"\n",
    "model = best_run.register_model(model_name = model_name,\n",
    "                                description = description,\n",
    "                                model_path = 'outputs/model.pkl',\n",
    "                                tags = None)"
   ]
  },
  {
   "cell_type": "markdown",
   "id": "dab92f27",
   "metadata": {},
   "source": [
    "# Deploy the Best Model\n",
    "\n",
    "Run the following code to deploy the best model. You can see the state of the deployment in the Azure ML portal. This step can take a few minutes."
   ]
  },
  {
   "cell_type": "code",
   "execution_count": 19,
   "id": "5844c340",
   "metadata": {},
   "outputs": [
    {
     "name": "stderr",
     "output_type": "stream",
     "text": [
      "WARNING:azureml.core.model:Warning, custom base image or base dockerfile detected without a specified `inferencing_stack_version`. Please set environment.inferencing_stack_version='latest'\n"
     ]
    },
    {
     "name": "stdout",
     "output_type": "stream",
     "text": [
      "Tips: You can try get_logs(): https://aka.ms/debugimage#dockerlog or local deployment: https://aka.ms/debugimage#debug-locally to debug if deployment takes longer than 10 minutes.\n",
      "Running\n",
      "2023-03-15 16:19:24+00:00 Creating Container Registry if not exists..\n",
      "2023-03-15 16:29:24+00:00 Registering the environment.\n",
      "2023-03-15 16:29:25+00:00 Use the existing image..\n",
      "2023-03-15 16:29:26+00:00 Submitting deployment to compute..\n",
      "2023-03-15 16:29:35+00:00 Checking the status of deployment automl-hf-sdk..\n",
      "2023-03-15 16:31:51+00:00 Checking the status of inference endpoint automl-hf-sdk.\n",
      "Succeeded\n",
      "ACI service creation operation finished, operation \"Succeeded\"\n",
      "Healthy\n"
     ]
    }
   ],
   "source": [
    "inference_config = InferenceConfig(entry_script=script_file_name, environment=best_run.get_environment())\n",
    "\n",
    "aciconfig = AciWebservice.deploy_configuration(cpu_cores = 1,\n",
    "                                               memory_gb = 1,\n",
    "                                               tags = {'type': \"automl-heart-failure-prediction\"},\n",
    "                                               description = 'Sample service for AutoML Heart Failure Prediction')\n",
    "\n",
    "aci_service_name = 'automl-hf-sdk'\n",
    "aci_service = Model.deploy(ws, aci_service_name, [model], inference_config, aciconfig)\n",
    "aci_service.wait_for_deployment(True)\n",
    "print(aci_service.state)"
   ]
  },
  {
   "cell_type": "markdown",
   "id": "9b202de3",
   "metadata": {},
   "source": [
    "# Consume the Endpoint\n",
    "\n",
    "You can add inputs to the following input sample."
   ]
  },
  {
   "cell_type": "code",
   "execution_count": 21,
   "id": "c1199a75",
   "metadata": {},
   "outputs": [],
   "source": [
    "import json\n",
    "\n",
    "data = {\n",
    "    \"data\":\n",
    "    [\n",
    "        {\n",
    "            'age': \"60\",\n",
    "            'anaemia': \"false\",\n",
    "            'creatinine_phosphokinase': \"500\",\n",
    "            'diabetes': \"false\",\n",
    "            'ejection_fraction': \"38\",\n",
    "            'high_blood_pressure': \"false\",\n",
    "            'platelets': \"260000\",\n",
    "            'serum_creatinine': \"1.40\",\n",
    "            'serum_sodium': \"137\",\n",
    "            'sex': \"false\",\n",
    "            'smoking': \"false\",\n",
    "            'time': \"130\",\n",
    "        },\n",
    "    ],\n",
    "}\n",
    "\n",
    "test_sample = str.encode(json.dumps(data))"
   ]
  },
  {
   "cell_type": "code",
   "execution_count": 22,
   "id": "874ca6d6",
   "metadata": {},
   "outputs": [
    {
     "data": {
      "text/plain": [
       "'{\"result\": [false]}'"
      ]
     },
     "execution_count": 22,
     "metadata": {},
     "output_type": "execute_result"
    }
   ],
   "source": [
    "response = aci_service.run(input_data=test_sample)\n",
    "response"
   ]
  },
  {
   "cell_type": "code",
   "execution_count": null,
   "id": "7583bca6",
   "metadata": {},
   "outputs": [],
   "source": []
  }
 ],
 "metadata": {
  "kernelspec": {
   "display_name": "Python 3.8 - AzureML",
   "language": "python",
   "name": "python38-azureml"
  },
  "language_info": {
   "codemirror_mode": {
    "name": "ipython",
    "version": 3
   },
   "file_extension": ".py",
   "mimetype": "text/x-python",
   "name": "python",
   "nbconvert_exporter": "python",
   "pygments_lexer": "ipython3",
   "version": "3.8.10"
  }
 },
 "nbformat": 4,
 "nbformat_minor": 5
}
